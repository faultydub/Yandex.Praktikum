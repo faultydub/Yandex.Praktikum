{
 "cells": [
  {
   "cell_type": "markdown",
   "metadata": {},
   "source": [
    "## Исследование надёжности заёмщиков\n",
    "\n",
    "Заказчик — кредитный отдел банка. Нужно разобраться, влияет ли семейное положение и количество детей клиента на факт погашения кредита в срок. Входные данные от банка — статистика о платёжеспособности клиентов.\n",
    "\n",
    "Результаты исследования будут учтены при построении модели **кредитного скоринга** — специальной системы, которая оценивает способность потенциального заёмщика вернуть кредит банку.\n",
    "\n",
    "Входные данные — статистика о платёжеспособности клиентов, содержит:\n",
    "\n",
    "- children — количество детей в семье\n",
    "- days_employed — трудовой стаж в днях\n",
    "- dob_days — возраст клиента в годах\n",
    "- education — образование клиента\n",
    "- education_id — идентификатор образования\n",
    "- family_status — семейное положение\n",
    "- family_status_id — идентификатор семейного положения\n",
    "- gender — пол клиента\n",
    "- income_type — тип занятости\n",
    "- debt — имел ли задолженность по возврату кредитов\n",
    "- total_income — доход в месяц\n",
    "- purpose — цель получения кредита\n",
    "\n",
    "Плат работы:\n",
    "1. Импорт файла с данными, изучение общей информации.\n",
    "2. Предобработка данных\n",
    "    - Обработка пропусков\n",
    "    - Замена типа данных\n",
    "    - Обработка дубликатов\n",
    "    - Лемматизация\n",
    "    - Категоризация данных\n",
    "3. Ответы на вопросы\n",
    "4. Общий вывод"
   ]
  },
  {
   "cell_type": "markdown",
   "metadata": {},
   "source": [
    "### 1. Импорт файла с данными, изучение общей информации. "
   ]
  },
  {
   "cell_type": "code",
   "execution_count": 1,
   "metadata": {},
   "outputs": [],
   "source": [
    "import pandas as pd #импорт pandas\n",
    "from IPython.display import display"
   ]
  },
  {
   "cell_type": "code",
   "execution_count": 2,
   "metadata": {
    "scrolled": false
   },
   "outputs": [
    {
     "name": "stdout",
     "output_type": "stream",
     "text": [
      "<class 'pandas.core.frame.DataFrame'>\n",
      "RangeIndex: 21525 entries, 0 to 21524\n",
      "Data columns (total 12 columns):\n",
      "children            21525 non-null int64\n",
      "days_employed       19351 non-null float64\n",
      "dob_years           21525 non-null int64\n",
      "education           21525 non-null object\n",
      "education_id        21525 non-null int64\n",
      "family_status       21525 non-null object\n",
      "family_status_id    21525 non-null int64\n",
      "gender              21525 non-null object\n",
      "income_type         21525 non-null object\n",
      "debt                21525 non-null int64\n",
      "total_income        19351 non-null float64\n",
      "purpose             21525 non-null object\n",
      "dtypes: float64(2), int64(5), object(5)\n",
      "memory usage: 2.0+ MB\n"
     ]
    },
    {
     "data": {
      "text/html": [
       "<div>\n",
       "<style scoped>\n",
       "    .dataframe tbody tr th:only-of-type {\n",
       "        vertical-align: middle;\n",
       "    }\n",
       "\n",
       "    .dataframe tbody tr th {\n",
       "        vertical-align: top;\n",
       "    }\n",
       "\n",
       "    .dataframe thead th {\n",
       "        text-align: right;\n",
       "    }\n",
       "</style>\n",
       "<table border=\"1\" class=\"dataframe\">\n",
       "  <thead>\n",
       "    <tr style=\"text-align: right;\">\n",
       "      <th></th>\n",
       "      <th>children</th>\n",
       "      <th>days_employed</th>\n",
       "      <th>dob_years</th>\n",
       "      <th>education</th>\n",
       "      <th>education_id</th>\n",
       "      <th>family_status</th>\n",
       "      <th>family_status_id</th>\n",
       "      <th>gender</th>\n",
       "      <th>income_type</th>\n",
       "      <th>debt</th>\n",
       "      <th>total_income</th>\n",
       "      <th>purpose</th>\n",
       "    </tr>\n",
       "  </thead>\n",
       "  <tbody>\n",
       "    <tr>\n",
       "      <td>0</td>\n",
       "      <td>1</td>\n",
       "      <td>-8437.673028</td>\n",
       "      <td>42</td>\n",
       "      <td>высшее</td>\n",
       "      <td>0</td>\n",
       "      <td>женат / замужем</td>\n",
       "      <td>0</td>\n",
       "      <td>F</td>\n",
       "      <td>сотрудник</td>\n",
       "      <td>0</td>\n",
       "      <td>253875.639453</td>\n",
       "      <td>покупка жилья</td>\n",
       "    </tr>\n",
       "    <tr>\n",
       "      <td>1</td>\n",
       "      <td>1</td>\n",
       "      <td>-4024.803754</td>\n",
       "      <td>36</td>\n",
       "      <td>среднее</td>\n",
       "      <td>1</td>\n",
       "      <td>женат / замужем</td>\n",
       "      <td>0</td>\n",
       "      <td>F</td>\n",
       "      <td>сотрудник</td>\n",
       "      <td>0</td>\n",
       "      <td>112080.014102</td>\n",
       "      <td>приобретение автомобиля</td>\n",
       "    </tr>\n",
       "    <tr>\n",
       "      <td>2</td>\n",
       "      <td>0</td>\n",
       "      <td>-5623.422610</td>\n",
       "      <td>33</td>\n",
       "      <td>Среднее</td>\n",
       "      <td>1</td>\n",
       "      <td>женат / замужем</td>\n",
       "      <td>0</td>\n",
       "      <td>M</td>\n",
       "      <td>сотрудник</td>\n",
       "      <td>0</td>\n",
       "      <td>145885.952297</td>\n",
       "      <td>покупка жилья</td>\n",
       "    </tr>\n",
       "    <tr>\n",
       "      <td>3</td>\n",
       "      <td>3</td>\n",
       "      <td>-4124.747207</td>\n",
       "      <td>32</td>\n",
       "      <td>среднее</td>\n",
       "      <td>1</td>\n",
       "      <td>женат / замужем</td>\n",
       "      <td>0</td>\n",
       "      <td>M</td>\n",
       "      <td>сотрудник</td>\n",
       "      <td>0</td>\n",
       "      <td>267628.550329</td>\n",
       "      <td>дополнительное образование</td>\n",
       "    </tr>\n",
       "    <tr>\n",
       "      <td>4</td>\n",
       "      <td>0</td>\n",
       "      <td>340266.072047</td>\n",
       "      <td>53</td>\n",
       "      <td>среднее</td>\n",
       "      <td>1</td>\n",
       "      <td>гражданский брак</td>\n",
       "      <td>1</td>\n",
       "      <td>F</td>\n",
       "      <td>пенсионер</td>\n",
       "      <td>0</td>\n",
       "      <td>158616.077870</td>\n",
       "      <td>сыграть свадьбу</td>\n",
       "    </tr>\n",
       "    <tr>\n",
       "      <td>5</td>\n",
       "      <td>0</td>\n",
       "      <td>-926.185831</td>\n",
       "      <td>27</td>\n",
       "      <td>высшее</td>\n",
       "      <td>0</td>\n",
       "      <td>гражданский брак</td>\n",
       "      <td>1</td>\n",
       "      <td>M</td>\n",
       "      <td>компаньон</td>\n",
       "      <td>0</td>\n",
       "      <td>255763.565419</td>\n",
       "      <td>покупка жилья</td>\n",
       "    </tr>\n",
       "    <tr>\n",
       "      <td>6</td>\n",
       "      <td>0</td>\n",
       "      <td>-2879.202052</td>\n",
       "      <td>43</td>\n",
       "      <td>высшее</td>\n",
       "      <td>0</td>\n",
       "      <td>женат / замужем</td>\n",
       "      <td>0</td>\n",
       "      <td>F</td>\n",
       "      <td>компаньон</td>\n",
       "      <td>0</td>\n",
       "      <td>240525.971920</td>\n",
       "      <td>операции с жильем</td>\n",
       "    </tr>\n",
       "    <tr>\n",
       "      <td>7</td>\n",
       "      <td>0</td>\n",
       "      <td>-152.779569</td>\n",
       "      <td>50</td>\n",
       "      <td>СРЕДНЕЕ</td>\n",
       "      <td>1</td>\n",
       "      <td>женат / замужем</td>\n",
       "      <td>0</td>\n",
       "      <td>M</td>\n",
       "      <td>сотрудник</td>\n",
       "      <td>0</td>\n",
       "      <td>135823.934197</td>\n",
       "      <td>образование</td>\n",
       "    </tr>\n",
       "    <tr>\n",
       "      <td>8</td>\n",
       "      <td>2</td>\n",
       "      <td>-6929.865299</td>\n",
       "      <td>35</td>\n",
       "      <td>ВЫСШЕЕ</td>\n",
       "      <td>0</td>\n",
       "      <td>гражданский брак</td>\n",
       "      <td>1</td>\n",
       "      <td>F</td>\n",
       "      <td>сотрудник</td>\n",
       "      <td>0</td>\n",
       "      <td>95856.832424</td>\n",
       "      <td>на проведение свадьбы</td>\n",
       "    </tr>\n",
       "    <tr>\n",
       "      <td>9</td>\n",
       "      <td>0</td>\n",
       "      <td>-2188.756445</td>\n",
       "      <td>41</td>\n",
       "      <td>среднее</td>\n",
       "      <td>1</td>\n",
       "      <td>женат / замужем</td>\n",
       "      <td>0</td>\n",
       "      <td>M</td>\n",
       "      <td>сотрудник</td>\n",
       "      <td>0</td>\n",
       "      <td>144425.938277</td>\n",
       "      <td>покупка жилья для семьи</td>\n",
       "    </tr>\n",
       "  </tbody>\n",
       "</table>\n",
       "</div>"
      ],
      "text/plain": [
       "   children  days_employed  dob_years education  education_id  \\\n",
       "0         1   -8437.673028         42    высшее             0   \n",
       "1         1   -4024.803754         36   среднее             1   \n",
       "2         0   -5623.422610         33   Среднее             1   \n",
       "3         3   -4124.747207         32   среднее             1   \n",
       "4         0  340266.072047         53   среднее             1   \n",
       "5         0    -926.185831         27    высшее             0   \n",
       "6         0   -2879.202052         43    высшее             0   \n",
       "7         0    -152.779569         50   СРЕДНЕЕ             1   \n",
       "8         2   -6929.865299         35    ВЫСШЕЕ             0   \n",
       "9         0   -2188.756445         41   среднее             1   \n",
       "\n",
       "      family_status  family_status_id gender income_type  debt   total_income  \\\n",
       "0   женат / замужем                 0      F   сотрудник     0  253875.639453   \n",
       "1   женат / замужем                 0      F   сотрудник     0  112080.014102   \n",
       "2   женат / замужем                 0      M   сотрудник     0  145885.952297   \n",
       "3   женат / замужем                 0      M   сотрудник     0  267628.550329   \n",
       "4  гражданский брак                 1      F   пенсионер     0  158616.077870   \n",
       "5  гражданский брак                 1      M   компаньон     0  255763.565419   \n",
       "6   женат / замужем                 0      F   компаньон     0  240525.971920   \n",
       "7   женат / замужем                 0      M   сотрудник     0  135823.934197   \n",
       "8  гражданский брак                 1      F   сотрудник     0   95856.832424   \n",
       "9   женат / замужем                 0      M   сотрудник     0  144425.938277   \n",
       "\n",
       "                      purpose  \n",
       "0               покупка жилья  \n",
       "1     приобретение автомобиля  \n",
       "2               покупка жилья  \n",
       "3  дополнительное образование  \n",
       "4             сыграть свадьбу  \n",
       "5               покупка жилья  \n",
       "6           операции с жильем  \n",
       "7                 образование  \n",
       "8       на проведение свадьбы  \n",
       "9     покупка жилья для семьи  "
      ]
     },
     "execution_count": 2,
     "metadata": {},
     "output_type": "execute_result"
    }
   ],
   "source": [
    "clients = pd.read_csv('/datasets/data.csv') #считывание файла с данными\n",
    "\n",
    "clients.info() #инфо об инпортированном файле\n",
    "clients.head(10)"
   ]
  },
  {
   "cell_type": "markdown",
   "metadata": {},
   "source": [
    "### Вывод"
   ]
  },
  {
   "cell_type": "markdown",
   "metadata": {},
   "source": [
    "Таблица состоит из 12-ти столбцов, из которых: 2 имеют тип данных float64, 5 - int64, 5- object. В столбцах `days_employed` и `total_income` имеются пропущенные значения. Скорее всего, это связано с технической ошибкой при выгрузке данных. Столбец `days_employed` можно исклютить из анализа по принине отсутствия каких - либо вопросов, связанных с смысловой нагрузкой столбца. "
   ]
  },
  {
   "cell_type": "markdown",
   "metadata": {},
   "source": [
    "### 2. Предобработка данных"
   ]
  },
  {
   "cell_type": "markdown",
   "metadata": {},
   "source": [
    "### Обработка пропусков"
   ]
  },
  {
   "cell_type": "code",
   "execution_count": 3,
   "metadata": {},
   "outputs": [
    {
     "name": "stdout",
     "output_type": "stream",
     "text": [
      "сотрудник 142594.39684740017\n",
      "пенсионер 118514.48641164352\n",
      "компаньон 172357.95096577113\n",
      "госслужащий 150447.9352830068\n",
      "безработный 131339.7516762103\n",
      "предприниматель 499163.1449470857\n",
      "студент 98201.62531401133\n",
      "в декрете 53829.13072905995\n"
     ]
    }
   ],
   "source": [
    "# заполнение пропусков в 'total_income' медианным значением в соответствии с типом занятоски\n",
    "#print(clients['total_income'].isna().sum()) # подсчет пропусков в 'total_income' до обработки\n",
    "for income_type in clients['income_type'].unique(): # для всех уникальных значений 'income_type'\n",
    "    median = clients.loc[clients['income_type'] == income_type, 'total_income'].median() # рассчитываем медиану в 'total_income'\n",
    "    print(income_type, median) # вывод соответствия категорий из 'income_type' медиане по 'total_income'\n",
    "    # заполняем медианным значением пропуски в 'total_income' в соответствии с категориями в 'income_type'\n",
    "    clients.loc[(clients['total_income'].isna()) & (clients['income_type'] == income_type), 'total_income'] = median \n",
    "#print(clients['total_income'].isna().sum()) # подсчет пропусков в 'total_income' после обработки\n",
    "\n",
    "clients.loc[clients['children'] == 20, 'children'] = 2 # в столбце 'children' преобразовываем лишние значение \"20\" в \"2\"\n",
    "clients.loc[clients['children'] == -1, 'children'] = 1 # в столбце 'children' преобразовываем лишние значение \"-1\" в \"1\"\n",
    "dob_years_mean = clients['dob_years'].mean() # из-за присутствия в столбце 'dob_years' возраста 0 лет, \n",
    "# заменим его на средний по столбцу. Расчет среднего возраста в столбце 'dob_years'\n",
    "dob_years_mean = dob_years_mean.astype(int) # т.к. возраст получился не \"целый\", переводим в соотв. тип\n",
    "clients.loc[clients['dob_years'] == 0, 'dob_years'] = dob_years_mean # заменяем 0 лет средним значением\n",
    "clients = clients.loc[clients['gender'] != 'XNA'] # удаляем строку с единственным неизв. значением в столбце 'gender'\n",
    "#clients['gender'].value_counts() # проверка присутствия лишнего в столбце 'gender'\n",
    "#clients['dob_years'].value_counts() # проверка присутствия лишнего в столбце 'dob_years'"
   ]
  },
  {
   "cell_type": "markdown",
   "metadata": {},
   "source": [
    "### Вывод"
   ]
  },
  {
   "cell_type": "markdown",
   "metadata": {},
   "source": [
    "Есть пропуски в столбце `total_income`, их целесообразно заменить медианным значением столбца `total_income` используя группировку по параметру \"тип занятости\". Также убираем лишнее в столбце `children`, считая, что 20 детей имелось в ввиду 2, а -1 ребенок - 1. Одновременно с этим, в столбце `dob_years` присутствует возраст 0 лет, заменям на среднее по столбцу."
   ]
  },
  {
   "cell_type": "markdown",
   "metadata": {},
   "source": [
    "### Замена типа данных"
   ]
  },
  {
   "cell_type": "code",
   "execution_count": 4,
   "metadata": {},
   "outputs": [],
   "source": [
    "clients['total_income'] = clients['total_income'].astype(int) # Приводим тип данных столбца 'total_income' к int64"
   ]
  },
  {
   "cell_type": "markdown",
   "metadata": {},
   "source": [
    "### Вывод"
   ]
  },
  {
   "cell_type": "markdown",
   "metadata": {},
   "source": [
    "Все столбцы, за исключением `total_income` имеют правильный тип. `total_income` переводим в целочисленный."
   ]
  },
  {
   "cell_type": "markdown",
   "metadata": {},
   "source": [
    "### Обработка дубликатов"
   ]
  },
  {
   "cell_type": "code",
   "execution_count": 5,
   "metadata": {},
   "outputs": [
    {
     "data": {
      "text/plain": [
       "0"
      ]
     },
     "execution_count": 5,
     "metadata": {},
     "output_type": "execute_result"
    }
   ],
   "source": [
    "clients['education'] = clients['education'].str.lower() # приводим все значения столбца 'education' к нижнему регистру\n",
    "#clients['education'].value_counts() # проверяем удаление дубликатов в разных регистрах\n",
    "#clients.duplicated().sum() # подсчет количества дубликатов в таблице\n",
    "#clients[clients.duplicated(keep = False)].sort_values(by = clients.columns.values.tolist()) # печать дубликатов для анализа\n",
    "clients = clients.drop_duplicates().reset_index(drop = True) # удаление дубликатов\n",
    "clients.duplicated().sum() # проверка количества дубликатов после удаления"
   ]
  },
  {
   "cell_type": "markdown",
   "metadata": {},
   "source": [
    "### Вывод"
   ]
  },
  {
   "cell_type": "markdown",
   "metadata": {},
   "source": [
    "Дубликаты, присутствующие в таблице удалены. Дубликаты встречаются в столобце `education`. Их обработака ограничивается приведением значений столбца к нижнему регистру."
   ]
  },
  {
   "cell_type": "markdown",
   "metadata": {},
   "source": [
    "### Лемматизация"
   ]
  },
  {
   "cell_type": "code",
   "execution_count": 6,
   "metadata": {},
   "outputs": [
    {
     "name": "stdout",
     "output_type": "stream",
     "text": [
      "Counter({' ': 55021, 'недвижимость': 6350, 'покупка': 5896, 'жилье': 4460, 'автомобиль': 4306, 'образование': 4013, 'с': 2918, 'операция': 2604, 'свадьба': 2324, 'свой': 2230, 'на': 2222, 'строительство': 1878, 'высокий': 1374, 'получение': 1314, 'коммерческий': 1311, 'для': 1289, 'жилой': 1230, 'сделка': 941, 'дополнительный': 906, 'заниматься': 904, 'подержать': 853, 'проведение': 768, 'сыграть': 765, 'сдача': 651, 'семья': 638, 'собственный': 635, 'со': 627, 'ремонт': 607, 'приобретение': 461, 'профильный': 436, 'подержанный': 111, '\\n': 1})\n"
     ]
    }
   ],
   "source": [
    "from pymystem3 import Mystem # импорт библиотеки\n",
    "m = Mystem()\n",
    "lemmas = m.lemmatize(' '.join(clients['purpose'])) # лемматизация столбца 'purpose'\n",
    "from collections import Counter # импорт библиотеки\n",
    "print(Counter(lemmas)) # определение наиболее популярных категорий\n",
    "\n",
    "\n",
    "def pop_purpose(clients): # определение функции, позволяющей упростить столбец 'purpose'\n",
    "  \n",
    "    if 'жилье' in m.lemmatize(clients['purpose']): # объединение на укрупненную категорию 'недвижимость'\n",
    "        return 'недвижимость'\n",
    "    elif 'недвижимость' in m.lemmatize(clients['purpose']): # объединение на укрупненную категорию 'недвижимость'\n",
    "        return 'недвижимость'\n",
    "    elif 'автомобиль' in m.lemmatize(clients['purpose']): # объединение на укрупненную категорию 'автомобиль'\n",
    "        return 'автомобиль'\n",
    "    elif 'образование' in m.lemmatize(clients['purpose']): # объединение на укрупненную категорию 'образование'\n",
    "        return 'образование'\n",
    "    elif 'свадьба' in m.lemmatize(clients['purpose']): # объединение на укрупненную категорию 'свадьба'\n",
    "        return 'свадьба'\n",
    "\n",
    "    \n",
    "clients['pop_purpose'] = clients.apply(pop_purpose, axis=1) # создание столбца в clients с упрощенным категориями\n",
    "#clients.head(10)\n",
    "#clients['pop_purpose'].value_counts() # проверка работы функции pop_purpose"
   ]
  },
  {
   "cell_type": "markdown",
   "metadata": {},
   "source": [
    "### Вывод"
   ]
  },
  {
   "cell_type": "markdown",
   "metadata": {},
   "source": [
    "Лемматизация словоформ в столбце `purpose` определила 4 наиболее часто встречающиеся леммы, на основе которых созданы 4 категории: \"недвижимость, автомобиль, образование, свадьба\". Также, описана функция `pop_purpose()`, позволяющая создать столбец с упращенными категорями в `clients`."
   ]
  },
  {
   "cell_type": "markdown",
   "metadata": {},
   "source": [
    "### Категоризация данных"
   ]
  },
  {
   "cell_type": "code",
   "execution_count": 7,
   "metadata": {},
   "outputs": [
    {
     "data": {
      "text/html": [
       "<div>\n",
       "<style scoped>\n",
       "    .dataframe tbody tr th:only-of-type {\n",
       "        vertical-align: middle;\n",
       "    }\n",
       "\n",
       "    .dataframe tbody tr th {\n",
       "        vertical-align: top;\n",
       "    }\n",
       "\n",
       "    .dataframe thead th {\n",
       "        text-align: right;\n",
       "    }\n",
       "</style>\n",
       "<table border=\"1\" class=\"dataframe\">\n",
       "  <thead>\n",
       "    <tr style=\"text-align: right;\">\n",
       "      <th></th>\n",
       "      <th></th>\n",
       "      <th>Кол-во заемщиков</th>\n",
       "    </tr>\n",
       "    <tr>\n",
       "      <th>education_id</th>\n",
       "      <th>education</th>\n",
       "      <th></th>\n",
       "    </tr>\n",
       "  </thead>\n",
       "  <tbody>\n",
       "    <tr>\n",
       "      <td>0</td>\n",
       "      <td>высшее</td>\n",
       "      <td>5250</td>\n",
       "    </tr>\n",
       "    <tr>\n",
       "      <td>1</td>\n",
       "      <td>среднее</td>\n",
       "      <td>15172</td>\n",
       "    </tr>\n",
       "    <tr>\n",
       "      <td>2</td>\n",
       "      <td>неоконченное высшее</td>\n",
       "      <td>743</td>\n",
       "    </tr>\n",
       "    <tr>\n",
       "      <td>3</td>\n",
       "      <td>начальное</td>\n",
       "      <td>282</td>\n",
       "    </tr>\n",
       "    <tr>\n",
       "      <td>4</td>\n",
       "      <td>ученая степень</td>\n",
       "      <td>6</td>\n",
       "    </tr>\n",
       "  </tbody>\n",
       "</table>\n",
       "</div>"
      ],
      "text/plain": [
       "                                  Кол-во заемщиков\n",
       "education_id education                            \n",
       "0            высшее                           5250\n",
       "1            среднее                         15172\n",
       "2            неоконченное высшее               743\n",
       "3            начальное                         282\n",
       "4            ученая степень                      6"
      ]
     },
     "metadata": {},
     "output_type": "display_data"
    },
    {
     "data": {
      "text/html": [
       "<div>\n",
       "<style scoped>\n",
       "    .dataframe tbody tr th:only-of-type {\n",
       "        vertical-align: middle;\n",
       "    }\n",
       "\n",
       "    .dataframe tbody tr th {\n",
       "        vertical-align: top;\n",
       "    }\n",
       "\n",
       "    .dataframe thead th {\n",
       "        text-align: right;\n",
       "    }\n",
       "</style>\n",
       "<table border=\"1\" class=\"dataframe\">\n",
       "  <thead>\n",
       "    <tr style=\"text-align: right;\">\n",
       "      <th></th>\n",
       "      <th></th>\n",
       "      <th>Кол-во заемщиков</th>\n",
       "    </tr>\n",
       "    <tr>\n",
       "      <th>family_status_id</th>\n",
       "      <th>family_status</th>\n",
       "      <th></th>\n",
       "    </tr>\n",
       "  </thead>\n",
       "  <tbody>\n",
       "    <tr>\n",
       "      <td>0</td>\n",
       "      <td>женат / замужем</td>\n",
       "      <td>12339</td>\n",
       "    </tr>\n",
       "    <tr>\n",
       "      <td>1</td>\n",
       "      <td>гражданский брак</td>\n",
       "      <td>4150</td>\n",
       "    </tr>\n",
       "    <tr>\n",
       "      <td>2</td>\n",
       "      <td>вдовец / вдова</td>\n",
       "      <td>959</td>\n",
       "    </tr>\n",
       "    <tr>\n",
       "      <td>3</td>\n",
       "      <td>в разводе</td>\n",
       "      <td>1195</td>\n",
       "    </tr>\n",
       "    <tr>\n",
       "      <td>4</td>\n",
       "      <td>Не женат / не замужем</td>\n",
       "      <td>2810</td>\n",
       "    </tr>\n",
       "  </tbody>\n",
       "</table>\n",
       "</div>"
      ],
      "text/plain": [
       "                                        Кол-во заемщиков\n",
       "family_status_id family_status                          \n",
       "0                женат / замужем                   12339\n",
       "1                гражданский брак                   4150\n",
       "2                вдовец / вдова                      959\n",
       "3                в разводе                          1195\n",
       "4                Не женат / не замужем              2810"
      ]
     },
     "metadata": {},
     "output_type": "display_data"
    },
    {
     "data": {
      "text/html": [
       "<div>\n",
       "<style scoped>\n",
       "    .dataframe tbody tr th:only-of-type {\n",
       "        vertical-align: middle;\n",
       "    }\n",
       "\n",
       "    .dataframe tbody tr th {\n",
       "        vertical-align: top;\n",
       "    }\n",
       "\n",
       "    .dataframe thead th {\n",
       "        text-align: right;\n",
       "    }\n",
       "</style>\n",
       "<table border=\"1\" class=\"dataframe\">\n",
       "  <thead>\n",
       "    <tr style=\"text-align: right;\">\n",
       "      <th></th>\n",
       "      <th>Кол-во заемщиков</th>\n",
       "    </tr>\n",
       "    <tr>\n",
       "      <th>pop_purpose</th>\n",
       "      <th></th>\n",
       "    </tr>\n",
       "  </thead>\n",
       "  <tbody>\n",
       "    <tr>\n",
       "      <td>автомобиль</td>\n",
       "      <td>4306</td>\n",
       "    </tr>\n",
       "    <tr>\n",
       "      <td>недвижимость</td>\n",
       "      <td>10810</td>\n",
       "    </tr>\n",
       "    <tr>\n",
       "      <td>образование</td>\n",
       "      <td>4013</td>\n",
       "    </tr>\n",
       "    <tr>\n",
       "      <td>свадьба</td>\n",
       "      <td>2324</td>\n",
       "    </tr>\n",
       "  </tbody>\n",
       "</table>\n",
       "</div>"
      ],
      "text/plain": [
       "              Кол-во заемщиков\n",
       "pop_purpose                   \n",
       "автомобиль                4306\n",
       "недвижимость             10810\n",
       "образование               4013\n",
       "свадьба                   2324"
      ]
     },
     "metadata": {},
     "output_type": "display_data"
    },
    {
     "data": {
      "text/html": [
       "<div>\n",
       "<style scoped>\n",
       "    .dataframe tbody tr th:only-of-type {\n",
       "        vertical-align: middle;\n",
       "    }\n",
       "\n",
       "    .dataframe tbody tr th {\n",
       "        vertical-align: top;\n",
       "    }\n",
       "\n",
       "    .dataframe thead th {\n",
       "        text-align: right;\n",
       "    }\n",
       "</style>\n",
       "<table border=\"1\" class=\"dataframe\">\n",
       "  <thead>\n",
       "    <tr style=\"text-align: right;\">\n",
       "      <th></th>\n",
       "      <th>Кол-во заемщиков</th>\n",
       "    </tr>\n",
       "    <tr>\n",
       "      <th>children</th>\n",
       "      <th></th>\n",
       "    </tr>\n",
       "  </thead>\n",
       "  <tbody>\n",
       "    <tr>\n",
       "      <td>0</td>\n",
       "      <td>14090</td>\n",
       "    </tr>\n",
       "    <tr>\n",
       "      <td>1</td>\n",
       "      <td>4855</td>\n",
       "    </tr>\n",
       "    <tr>\n",
       "      <td>2</td>\n",
       "      <td>2128</td>\n",
       "    </tr>\n",
       "    <tr>\n",
       "      <td>3</td>\n",
       "      <td>330</td>\n",
       "    </tr>\n",
       "    <tr>\n",
       "      <td>4</td>\n",
       "      <td>41</td>\n",
       "    </tr>\n",
       "    <tr>\n",
       "      <td>5</td>\n",
       "      <td>9</td>\n",
       "    </tr>\n",
       "  </tbody>\n",
       "</table>\n",
       "</div>"
      ],
      "text/plain": [
       "          Кол-во заемщиков\n",
       "children                  \n",
       "0                    14090\n",
       "1                     4855\n",
       "2                     2128\n",
       "3                      330\n",
       "4                       41\n",
       "5                        9"
      ]
     },
     "metadata": {},
     "output_type": "display_data"
    }
   ],
   "source": [
    "#clients.groupby(['education_id', 'education']).agg({'total_income': 'count'})\n",
    "#clients.groupby(['education_id', 'education']).agg({'debt': 'sum'})\n",
    "\n",
    "# создание сводной табл. по категории \"образование клиента\"\n",
    "education_dict = clients.pivot_table(index = ['education_id','education'], values = 'debt', aggfunc = ['count']) \n",
    "education_dict.columns = ['Кол-во заемщиков']\n",
    "display(education_dict)\n",
    "\n",
    "# создание сводной табл. по категории \"семейное положение\"\n",
    "family_dict = clients.pivot_table(index = ['family_status_id', 'family_status'], values = 'debt', aggfunc = ['count'])\n",
    "family_dict.columns = ['Кол-во заемщиков']\n",
    "display(family_dict)\n",
    "\n",
    "# создание сводной табл. по укрупненной категории \"цель получения кредита\"\n",
    "purpose_dict = clients.pivot_table(index = ['pop_purpose'], values = 'debt', aggfunc = ['count'])\n",
    "purpose_dict.columns = ['Кол-во заемщиков']\n",
    "display(purpose_dict)\n",
    "\n",
    "# создание сводной табл. по категории \"количество детей в семье\"\n",
    "children_dict = clients.pivot_table(index = ['children'], values = 'debt', aggfunc = ['count'])\n",
    "children_dict.columns = ['Кол-во заемщиков']\n",
    "display(children_dict)"
   ]
  },
  {
   "cell_type": "markdown",
   "metadata": {},
   "source": [
    "### Вывод"
   ]
  },
  {
   "cell_type": "markdown",
   "metadata": {},
   "source": [
    "Категоризация данных:\n",
    "1. Расчет кол-ва заемщиков сгрупированных по категории \"образование клиента\"\n",
    "Вывод: больше всего заемщиков среди людей, имеющих образование \"среднее\"\n",
    "\n",
    "2. Расчет кол-ва заемщиков сгрупированных по категории \"семейное положение\"\n",
    "Вывод: больше всего заемщиков среди людей, имеющих  семейное положение \"женат / замужем\"\n",
    "\n",
    "3. Расчет кол-ва заемщиков сгрупированных по укрупненной категории \"цель получения кредита\"\n",
    "Вывод: больше всего заемщиков среди людей, указавших цель получение кредита \"недвижимость\"\n",
    "\n",
    "4. Расчет кол-ва заемщиков сгрупированных по категории \"количество детей в семье\"\n",
    "Вывод: больше всего заемщиков среди людей, у которых детей нет"
   ]
  },
  {
   "cell_type": "code",
   "execution_count": 8,
   "metadata": {},
   "outputs": [
    {
     "data": {
      "text/html": [
       "<div>\n",
       "<style scoped>\n",
       "    .dataframe tbody tr th:only-of-type {\n",
       "        vertical-align: middle;\n",
       "    }\n",
       "\n",
       "    .dataframe tbody tr th {\n",
       "        vertical-align: top;\n",
       "    }\n",
       "\n",
       "    .dataframe thead th {\n",
       "        text-align: right;\n",
       "    }\n",
       "</style>\n",
       "<table border=\"1\" class=\"dataframe\">\n",
       "  <thead>\n",
       "    <tr style=\"text-align: right;\">\n",
       "      <th></th>\n",
       "      <th>income_group</th>\n",
       "      <th>total_income</th>\n",
       "    </tr>\n",
       "  </thead>\n",
       "  <tbody>\n",
       "    <tr>\n",
       "      <td>0</td>\n",
       "      <td>высокий</td>\n",
       "      <td>253875</td>\n",
       "    </tr>\n",
       "    <tr>\n",
       "      <td>1</td>\n",
       "      <td>низкий</td>\n",
       "      <td>112080</td>\n",
       "    </tr>\n",
       "    <tr>\n",
       "      <td>2</td>\n",
       "      <td>средний</td>\n",
       "      <td>145885</td>\n",
       "    </tr>\n",
       "    <tr>\n",
       "      <td>3</td>\n",
       "      <td>высокий</td>\n",
       "      <td>267628</td>\n",
       "    </tr>\n",
       "    <tr>\n",
       "      <td>4</td>\n",
       "      <td>средний</td>\n",
       "      <td>158616</td>\n",
       "    </tr>\n",
       "    <tr>\n",
       "      <td>...</td>\n",
       "      <td>...</td>\n",
       "      <td>...</td>\n",
       "    </tr>\n",
       "    <tr>\n",
       "      <td>21448</td>\n",
       "      <td>высокий</td>\n",
       "      <td>224791</td>\n",
       "    </tr>\n",
       "    <tr>\n",
       "      <td>21449</td>\n",
       "      <td>средний</td>\n",
       "      <td>155999</td>\n",
       "    </tr>\n",
       "    <tr>\n",
       "      <td>21450</td>\n",
       "      <td>очень низкий</td>\n",
       "      <td>89672</td>\n",
       "    </tr>\n",
       "    <tr>\n",
       "      <td>21451</td>\n",
       "      <td>высокий</td>\n",
       "      <td>244093</td>\n",
       "    </tr>\n",
       "    <tr>\n",
       "      <td>21452</td>\n",
       "      <td>очень низкий</td>\n",
       "      <td>82047</td>\n",
       "    </tr>\n",
       "  </tbody>\n",
       "</table>\n",
       "<p>21453 rows × 2 columns</p>\n",
       "</div>"
      ],
      "text/plain": [
       "       income_group  total_income\n",
       "0           высокий        253875\n",
       "1            низкий        112080\n",
       "2           средний        145885\n",
       "3           высокий        267628\n",
       "4           средний        158616\n",
       "...             ...           ...\n",
       "21448       высокий        224791\n",
       "21449       средний        155999\n",
       "21450  очень низкий         89672\n",
       "21451       высокий        244093\n",
       "21452  очень низкий         82047\n",
       "\n",
       "[21453 rows x 2 columns]"
      ]
     },
     "execution_count": 8,
     "metadata": {},
     "output_type": "execute_result"
    }
   ],
   "source": [
    "# разбивка клиентов на 4 категории по уровню дохода методом qcut\n",
    "clients['income_group'] = pd.qcut(clients['total_income'], q = [0, 0.25, 0.5, 0.75, 1], \n",
    "                                  labels = ['очень низкий', 'низкий', 'средний', 'высокий'])\n",
    "clients[['income_group', 'total_income']] # вывод результата\n",
    "#clients.head()"
   ]
  },
  {
   "cell_type": "markdown",
   "metadata": {},
   "source": [
    "### 3. Ответы на вопросы"
   ]
  },
  {
   "cell_type": "markdown",
   "metadata": {},
   "source": [
    "- Есть ли зависимость между наличием детей и возвратом кредита в срок?"
   ]
  },
  {
   "cell_type": "code",
   "execution_count": 116,
   "metadata": {},
   "outputs": [
    {
     "data": {
      "text/html": [
       "<style  type=\"text/css\" >\n",
       "</style><table id=\"T_d49e3ed0_dce6_11ea_9911_02420a39bacc\" ><thead>    <tr>        <th class=\"blank level0\" ></th>        <th class=\"col_heading level0 col0\" >Кол-во заемщиков c долгом</th>        <th class=\"col_heading level0 col1\" >Кол-во заемщиков</th>        <th class=\"col_heading level0 col2\" >% невозврата</th>    </tr>    <tr>        <th class=\"index_name level0\" >children</th>        <th class=\"blank\" ></th>        <th class=\"blank\" ></th>        <th class=\"blank\" ></th>    </tr></thead><tbody>\n",
       "                <tr>\n",
       "                        <th id=\"T_d49e3ed0_dce6_11ea_9911_02420a39bacclevel0_row0\" class=\"row_heading level0 row0\" >0</th>\n",
       "                        <td id=\"T_d49e3ed0_dce6_11ea_9911_02420a39baccrow0_col0\" class=\"data row0 col0\" >1063</td>\n",
       "                        <td id=\"T_d49e3ed0_dce6_11ea_9911_02420a39baccrow0_col1\" class=\"data row0 col1\" >14090</td>\n",
       "                        <td id=\"T_d49e3ed0_dce6_11ea_9911_02420a39baccrow0_col2\" class=\"data row0 col2\" >7.54%</td>\n",
       "            </tr>\n",
       "            <tr>\n",
       "                        <th id=\"T_d49e3ed0_dce6_11ea_9911_02420a39bacclevel0_row1\" class=\"row_heading level0 row1\" >1</th>\n",
       "                        <td id=\"T_d49e3ed0_dce6_11ea_9911_02420a39baccrow1_col0\" class=\"data row1 col0\" >445</td>\n",
       "                        <td id=\"T_d49e3ed0_dce6_11ea_9911_02420a39baccrow1_col1\" class=\"data row1 col1\" >4855</td>\n",
       "                        <td id=\"T_d49e3ed0_dce6_11ea_9911_02420a39baccrow1_col2\" class=\"data row1 col2\" >9.17%</td>\n",
       "            </tr>\n",
       "            <tr>\n",
       "                        <th id=\"T_d49e3ed0_dce6_11ea_9911_02420a39bacclevel0_row2\" class=\"row_heading level0 row2\" >2</th>\n",
       "                        <td id=\"T_d49e3ed0_dce6_11ea_9911_02420a39baccrow2_col0\" class=\"data row2 col0\" >202</td>\n",
       "                        <td id=\"T_d49e3ed0_dce6_11ea_9911_02420a39baccrow2_col1\" class=\"data row2 col1\" >2128</td>\n",
       "                        <td id=\"T_d49e3ed0_dce6_11ea_9911_02420a39baccrow2_col2\" class=\"data row2 col2\" >9.49%</td>\n",
       "            </tr>\n",
       "            <tr>\n",
       "                        <th id=\"T_d49e3ed0_dce6_11ea_9911_02420a39bacclevel0_row3\" class=\"row_heading level0 row3\" >3</th>\n",
       "                        <td id=\"T_d49e3ed0_dce6_11ea_9911_02420a39baccrow3_col0\" class=\"data row3 col0\" >27</td>\n",
       "                        <td id=\"T_d49e3ed0_dce6_11ea_9911_02420a39baccrow3_col1\" class=\"data row3 col1\" >330</td>\n",
       "                        <td id=\"T_d49e3ed0_dce6_11ea_9911_02420a39baccrow3_col2\" class=\"data row3 col2\" >8.18%</td>\n",
       "            </tr>\n",
       "            <tr>\n",
       "                        <th id=\"T_d49e3ed0_dce6_11ea_9911_02420a39bacclevel0_row4\" class=\"row_heading level0 row4\" >4</th>\n",
       "                        <td id=\"T_d49e3ed0_dce6_11ea_9911_02420a39baccrow4_col0\" class=\"data row4 col0\" >4</td>\n",
       "                        <td id=\"T_d49e3ed0_dce6_11ea_9911_02420a39baccrow4_col1\" class=\"data row4 col1\" >41</td>\n",
       "                        <td id=\"T_d49e3ed0_dce6_11ea_9911_02420a39baccrow4_col2\" class=\"data row4 col2\" >9.76%</td>\n",
       "            </tr>\n",
       "            <tr>\n",
       "                        <th id=\"T_d49e3ed0_dce6_11ea_9911_02420a39bacclevel0_row5\" class=\"row_heading level0 row5\" >5</th>\n",
       "                        <td id=\"T_d49e3ed0_dce6_11ea_9911_02420a39baccrow5_col0\" class=\"data row5 col0\" >0</td>\n",
       "                        <td id=\"T_d49e3ed0_dce6_11ea_9911_02420a39baccrow5_col1\" class=\"data row5 col1\" >9</td>\n",
       "                        <td id=\"T_d49e3ed0_dce6_11ea_9911_02420a39baccrow5_col2\" class=\"data row5 col2\" >0.00%</td>\n",
       "            </tr>\n",
       "    </tbody></table>"
      ],
      "text/plain": [
       "<pandas.io.formats.style.Styler at 0x7f8b43fe2710>"
      ]
     },
     "execution_count": 116,
     "metadata": {},
     "output_type": "execute_result"
    }
   ],
   "source": [
    "# подсчет кол-ва заемщиков с долгом по столбцу 'children'\n",
    "children_debt = clients.pivot_table(index = ['children'], values = 'debt', aggfunc = ['sum'])\n",
    "children_debt.columns = ['Кол-во заемщиков c долгом']\n",
    "#display(children_debt)\n",
    "# подсчет процентного отношения кол-ва заемщиков с долгом относительно общего кол-ва замщиков\n",
    "\n",
    "#children_debt_final = children_debt['Кол-во заемщиков c долгом'] / children_dict['Кол-во заемщиков']\n",
    "#display(children_debt_final)\n",
    "\n",
    "children_debt_final = children_debt.merge(children_dict, on='children', how='left')\n",
    "children_debt_final['% невозврата'] = children_debt_final['Кол-во заемщиков c долгом'] / children_debt_final['Кол-во заемщиков']\n",
    "children_debt_final.style.format({'% невозврата':'{:.2%}'})"
   ]
  },
  {
   "cell_type": "markdown",
   "metadata": {},
   "source": [
    "### Вывод"
   ]
  },
  {
   "cell_type": "markdown",
   "metadata": {},
   "source": [
    "Зависимость есть. У заемщиков, у которых нет детей, процент невозврата меньше, чем у заемщиков с детьми.\n",
    "Исключение состваляют заемщики, у которых 5 детей."
   ]
  },
  {
   "cell_type": "markdown",
   "metadata": {},
   "source": [
    "- Есть ли зависимость между семейным положением и возвратом кредита в срок?"
   ]
  },
  {
   "cell_type": "code",
   "execution_count": 120,
   "metadata": {},
   "outputs": [
    {
     "data": {
      "text/html": [
       "<style  type=\"text/css\" >\n",
       "</style><table id=\"T_f7e528ea_dce6_11ea_9911_02420a39bacc\" ><thead>    <tr>        <th class=\"blank level0\" ></th>        <th class=\"col_heading level0 col0\" >Кол-во заемщиков c долгом</th>        <th class=\"col_heading level0 col1\" >Кол-во заемщиков</th>        <th class=\"col_heading level0 col2\" >% невозврата</th>    </tr>    <tr>        <th class=\"index_name level0\" >family_status</th>        <th class=\"blank\" ></th>        <th class=\"blank\" ></th>        <th class=\"blank\" ></th>    </tr></thead><tbody>\n",
       "                <tr>\n",
       "                        <th id=\"T_f7e528ea_dce6_11ea_9911_02420a39bacclevel0_row0\" class=\"row_heading level0 row0\" >Не женат / не замужем</th>\n",
       "                        <td id=\"T_f7e528ea_dce6_11ea_9911_02420a39baccrow0_col0\" class=\"data row0 col0\" >274</td>\n",
       "                        <td id=\"T_f7e528ea_dce6_11ea_9911_02420a39baccrow0_col1\" class=\"data row0 col1\" >2810</td>\n",
       "                        <td id=\"T_f7e528ea_dce6_11ea_9911_02420a39baccrow0_col2\" class=\"data row0 col2\" >9.75%</td>\n",
       "            </tr>\n",
       "            <tr>\n",
       "                        <th id=\"T_f7e528ea_dce6_11ea_9911_02420a39bacclevel0_row1\" class=\"row_heading level0 row1\" >в разводе</th>\n",
       "                        <td id=\"T_f7e528ea_dce6_11ea_9911_02420a39baccrow1_col0\" class=\"data row1 col0\" >85</td>\n",
       "                        <td id=\"T_f7e528ea_dce6_11ea_9911_02420a39baccrow1_col1\" class=\"data row1 col1\" >1195</td>\n",
       "                        <td id=\"T_f7e528ea_dce6_11ea_9911_02420a39baccrow1_col2\" class=\"data row1 col2\" >7.11%</td>\n",
       "            </tr>\n",
       "            <tr>\n",
       "                        <th id=\"T_f7e528ea_dce6_11ea_9911_02420a39bacclevel0_row2\" class=\"row_heading level0 row2\" >вдовец / вдова</th>\n",
       "                        <td id=\"T_f7e528ea_dce6_11ea_9911_02420a39baccrow2_col0\" class=\"data row2 col0\" >63</td>\n",
       "                        <td id=\"T_f7e528ea_dce6_11ea_9911_02420a39baccrow2_col1\" class=\"data row2 col1\" >959</td>\n",
       "                        <td id=\"T_f7e528ea_dce6_11ea_9911_02420a39baccrow2_col2\" class=\"data row2 col2\" >6.57%</td>\n",
       "            </tr>\n",
       "            <tr>\n",
       "                        <th id=\"T_f7e528ea_dce6_11ea_9911_02420a39bacclevel0_row3\" class=\"row_heading level0 row3\" >гражданский брак</th>\n",
       "                        <td id=\"T_f7e528ea_dce6_11ea_9911_02420a39baccrow3_col0\" class=\"data row3 col0\" >388</td>\n",
       "                        <td id=\"T_f7e528ea_dce6_11ea_9911_02420a39baccrow3_col1\" class=\"data row3 col1\" >4150</td>\n",
       "                        <td id=\"T_f7e528ea_dce6_11ea_9911_02420a39baccrow3_col2\" class=\"data row3 col2\" >9.35%</td>\n",
       "            </tr>\n",
       "            <tr>\n",
       "                        <th id=\"T_f7e528ea_dce6_11ea_9911_02420a39bacclevel0_row4\" class=\"row_heading level0 row4\" >женат / замужем</th>\n",
       "                        <td id=\"T_f7e528ea_dce6_11ea_9911_02420a39baccrow4_col0\" class=\"data row4 col0\" >931</td>\n",
       "                        <td id=\"T_f7e528ea_dce6_11ea_9911_02420a39baccrow4_col1\" class=\"data row4 col1\" >12339</td>\n",
       "                        <td id=\"T_f7e528ea_dce6_11ea_9911_02420a39baccrow4_col2\" class=\"data row4 col2\" >7.55%</td>\n",
       "            </tr>\n",
       "    </tbody></table>"
      ],
      "text/plain": [
       "<pandas.io.formats.style.Styler at 0x7f8b28d07a90>"
      ]
     },
     "execution_count": 120,
     "metadata": {},
     "output_type": "execute_result"
    }
   ],
   "source": [
    "# подсчет кол-ва заемщиков с долгом по столбцу 'family_status'\n",
    "family_debt = clients.pivot_table(index = ['family_status'], values = 'debt', aggfunc = ['sum'])\n",
    "family_debt.columns = ['Кол-во заемщиков c долгом']\n",
    "#display(family_debt)\n",
    "# подсчет процентного отношения кол-ва заемщиков с долгом относительно общего кол-ва замщиков\n",
    "#family_debt_final = (family_debt['Кол-во заемщиков c долгом'] / family_dict['Кол-во заемщиков']) * 100\n",
    "#family_debt_final\n",
    "\n",
    "family_debt_final = family_debt.merge(family_dict, on='family_status', how='left')\n",
    "family_debt_final['% невозврата'] = family_debt_final['Кол-во заемщиков c долгом'] / family_debt_final['Кол-во заемщиков']\n",
    "family_debt_final.style.format({'% невозврата':'{:.2%}'})"
   ]
  },
  {
   "cell_type": "markdown",
   "metadata": {},
   "source": [
    "### Вывод"
   ]
  },
  {
   "cell_type": "markdown",
   "metadata": {},
   "source": [
    "Зависимость есть. Заемщики, состоящие в отношениях \"Не женат / не замужем\" и \"гражданский брак\" имеют больше процент задолженности по возврату кредита, чем заемщики состощие в \"в разводе\", \"женат / замужем\". Самые безопасные: \"вдовец / вдова\""
   ]
  },
  {
   "cell_type": "markdown",
   "metadata": {},
   "source": [
    "- Есть ли зависимость между уровнем дохода и возвратом кредита в срок?"
   ]
  },
  {
   "cell_type": "code",
   "execution_count": 121,
   "metadata": {},
   "outputs": [
    {
     "data": {
      "text/html": [
       "<style  type=\"text/css\" >\n",
       "</style><table id=\"T_94bad69c_dce7_11ea_9911_02420a39bacc\" ><thead>    <tr>        <th class=\"blank level0\" ></th>        <th class=\"col_heading level0 col0\" >Кол-во заемщиков c долгом</th>        <th class=\"col_heading level0 col1\" >Кол-во заемщиков</th>        <th class=\"col_heading level0 col2\" >% невозврата</th>    </tr>    <tr>        <th class=\"index_name level0\" >income_group</th>        <th class=\"blank\" ></th>        <th class=\"blank\" ></th>        <th class=\"blank\" ></th>    </tr></thead><tbody>\n",
       "                <tr>\n",
       "                        <th id=\"T_94bad69c_dce7_11ea_9911_02420a39bacclevel0_row0\" class=\"row_heading level0 row0\" >очень низкий</th>\n",
       "                        <td id=\"T_94bad69c_dce7_11ea_9911_02420a39baccrow0_col0\" class=\"data row0 col0\" >427</td>\n",
       "                        <td id=\"T_94bad69c_dce7_11ea_9911_02420a39baccrow0_col1\" class=\"data row0 col1\" >5364</td>\n",
       "                        <td id=\"T_94bad69c_dce7_11ea_9911_02420a39baccrow0_col2\" class=\"data row0 col2\" >7.96%</td>\n",
       "            </tr>\n",
       "            <tr>\n",
       "                        <th id=\"T_94bad69c_dce7_11ea_9911_02420a39bacclevel0_row1\" class=\"row_heading level0 row1\" >низкий</th>\n",
       "                        <td id=\"T_94bad69c_dce7_11ea_9911_02420a39baccrow1_col0\" class=\"data row1 col0\" >483</td>\n",
       "                        <td id=\"T_94bad69c_dce7_11ea_9911_02420a39baccrow1_col1\" class=\"data row1 col1\" >5479</td>\n",
       "                        <td id=\"T_94bad69c_dce7_11ea_9911_02420a39baccrow1_col2\" class=\"data row1 col2\" >8.82%</td>\n",
       "            </tr>\n",
       "            <tr>\n",
       "                        <th id=\"T_94bad69c_dce7_11ea_9911_02420a39bacclevel0_row2\" class=\"row_heading level0 row2\" >средний</th>\n",
       "                        <td id=\"T_94bad69c_dce7_11ea_9911_02420a39baccrow2_col0\" class=\"data row2 col0\" >448</td>\n",
       "                        <td id=\"T_94bad69c_dce7_11ea_9911_02420a39baccrow2_col1\" class=\"data row2 col1\" >5247</td>\n",
       "                        <td id=\"T_94bad69c_dce7_11ea_9911_02420a39baccrow2_col2\" class=\"data row2 col2\" >8.54%</td>\n",
       "            </tr>\n",
       "            <tr>\n",
       "                        <th id=\"T_94bad69c_dce7_11ea_9911_02420a39bacclevel0_row3\" class=\"row_heading level0 row3\" >высокий</th>\n",
       "                        <td id=\"T_94bad69c_dce7_11ea_9911_02420a39baccrow3_col0\" class=\"data row3 col0\" >383</td>\n",
       "                        <td id=\"T_94bad69c_dce7_11ea_9911_02420a39baccrow3_col1\" class=\"data row3 col1\" >5363</td>\n",
       "                        <td id=\"T_94bad69c_dce7_11ea_9911_02420a39baccrow3_col2\" class=\"data row3 col2\" >7.14%</td>\n",
       "            </tr>\n",
       "    </tbody></table>"
      ],
      "text/plain": [
       "<pandas.io.formats.style.Styler at 0x7f8b28d077d0>"
      ]
     },
     "execution_count": 121,
     "metadata": {},
     "output_type": "execute_result"
    }
   ],
   "source": [
    "# подсчет кол-ва заемщиков с долгом по категориям столбца 'income_group'\n",
    "income_group_debt = clients.pivot_table(index = ['income_group'], values = 'debt', aggfunc = ['sum'])\n",
    "income_group_debt.columns = ['Кол-во заемщиков c долгом']\n",
    "#income_group_debt\n",
    "# подсчет общего количества заемщиков по категориям столбца 'income_group'\n",
    "total_income_dict = clients.pivot_table(index = ['income_group'], values = 'total_income', aggfunc = ['count'])\n",
    "total_income_dict.columns = ['Кол-во заемщиков']\n",
    "#total_income_dict\n",
    "# для категорий дохода: расчет процентного отношения кол-ва заемщиков с долгом относительно общего кол-ва заемщиков\n",
    "#total_income_final = (income_group_debt['Кол-во заемщиков c долгом'] / total_income_dict['Кол-во заемщиков']) * 100\n",
    "#total_income_final\n",
    "\n",
    "total_income_final = income_group_debt.merge(total_income_dict, on='income_group', how='left')\n",
    "total_income_final['% невозврата'] = total_income_final['Кол-во заемщиков c долгом'] / total_income_final['Кол-во заемщиков']\n",
    "total_income_final.style.format({'% невозврата':'{:.2%}'})"
   ]
  },
  {
   "cell_type": "markdown",
   "metadata": {},
   "source": [
    "### Вывод"
   ]
  },
  {
   "cell_type": "markdown",
   "metadata": {},
   "source": [
    "Зависимость есть. Заемщики с низким и средним уровнем дохода имеют больше просроченных задолженностей чем заемщики с очень низким. Заемщики с высоким уровнем дохода имеют количество просроченных задолженностей меньше остальных."
   ]
  },
  {
   "cell_type": "markdown",
   "metadata": {},
   "source": [
    "- Как разные цели кредита влияют на его возврат в срок?"
   ]
  },
  {
   "cell_type": "code",
   "execution_count": 124,
   "metadata": {},
   "outputs": [
    {
     "data": {
      "text/html": [
       "<style  type=\"text/css\" >\n",
       "</style><table id=\"T_13aa22ea_dce9_11ea_9911_02420a39bacc\" ><thead>    <tr>        <th class=\"blank level0\" ></th>        <th class=\"col_heading level0 col0\" >Кол-во заемщиков c долгом</th>        <th class=\"col_heading level0 col1\" >Кол-во заемщиков</th>        <th class=\"col_heading level0 col2\" >% невозврата</th>    </tr>    <tr>        <th class=\"index_name level0\" >pop_purpose</th>        <th class=\"blank\" ></th>        <th class=\"blank\" ></th>        <th class=\"blank\" ></th>    </tr></thead><tbody>\n",
       "                <tr>\n",
       "                        <th id=\"T_13aa22ea_dce9_11ea_9911_02420a39bacclevel0_row0\" class=\"row_heading level0 row0\" >автомобиль</th>\n",
       "                        <td id=\"T_13aa22ea_dce9_11ea_9911_02420a39baccrow0_col0\" class=\"data row0 col0\" >403</td>\n",
       "                        <td id=\"T_13aa22ea_dce9_11ea_9911_02420a39baccrow0_col1\" class=\"data row0 col1\" >4306</td>\n",
       "                        <td id=\"T_13aa22ea_dce9_11ea_9911_02420a39baccrow0_col2\" class=\"data row0 col2\" >9.36%</td>\n",
       "            </tr>\n",
       "            <tr>\n",
       "                        <th id=\"T_13aa22ea_dce9_11ea_9911_02420a39bacclevel0_row1\" class=\"row_heading level0 row1\" >недвижимость</th>\n",
       "                        <td id=\"T_13aa22ea_dce9_11ea_9911_02420a39baccrow1_col0\" class=\"data row1 col0\" >782</td>\n",
       "                        <td id=\"T_13aa22ea_dce9_11ea_9911_02420a39baccrow1_col1\" class=\"data row1 col1\" >10810</td>\n",
       "                        <td id=\"T_13aa22ea_dce9_11ea_9911_02420a39baccrow1_col2\" class=\"data row1 col2\" >7.23%</td>\n",
       "            </tr>\n",
       "            <tr>\n",
       "                        <th id=\"T_13aa22ea_dce9_11ea_9911_02420a39bacclevel0_row2\" class=\"row_heading level0 row2\" >образование</th>\n",
       "                        <td id=\"T_13aa22ea_dce9_11ea_9911_02420a39baccrow2_col0\" class=\"data row2 col0\" >370</td>\n",
       "                        <td id=\"T_13aa22ea_dce9_11ea_9911_02420a39baccrow2_col1\" class=\"data row2 col1\" >4013</td>\n",
       "                        <td id=\"T_13aa22ea_dce9_11ea_9911_02420a39baccrow2_col2\" class=\"data row2 col2\" >9.22%</td>\n",
       "            </tr>\n",
       "            <tr>\n",
       "                        <th id=\"T_13aa22ea_dce9_11ea_9911_02420a39bacclevel0_row3\" class=\"row_heading level0 row3\" >свадьба</th>\n",
       "                        <td id=\"T_13aa22ea_dce9_11ea_9911_02420a39baccrow3_col0\" class=\"data row3 col0\" >186</td>\n",
       "                        <td id=\"T_13aa22ea_dce9_11ea_9911_02420a39baccrow3_col1\" class=\"data row3 col1\" >2324</td>\n",
       "                        <td id=\"T_13aa22ea_dce9_11ea_9911_02420a39baccrow3_col2\" class=\"data row3 col2\" >8.00%</td>\n",
       "            </tr>\n",
       "    </tbody></table>"
      ],
      "text/plain": [
       "<pandas.io.formats.style.Styler at 0x7f8b2567fa90>"
      ]
     },
     "execution_count": 124,
     "metadata": {},
     "output_type": "execute_result"
    }
   ],
   "source": [
    "pop_purpose_debt = clients.pivot_table(index = ['pop_purpose'], values = 'debt', aggfunc = ['sum'])\n",
    "pop_purpose_debt.columns = ['Кол-во заемщиков c долгом']\n",
    "#display(pop_purpose_debt)\n",
    "\n",
    "#pop_purpose_final = (pop_purpose_debt['Кол-во заемщиков долговые'] / purpose_dict['Кол-во заемщиков']) * 100\n",
    "#display(pop_purpose_final)\n",
    "\n",
    "pop_purpose_final = pop_purpose_debt.merge(purpose_dict, on='pop_purpose', how='left')\n",
    "pop_purpose_final['% невозврата'] = pop_purpose_final['Кол-во заемщиков c долгом'] / pop_purpose_final['Кол-во заемщиков']\n",
    "pop_purpose_final.style.format({'% невозврата':'{:.2%}'})"
   ]
  },
  {
   "cell_type": "markdown",
   "metadata": {},
   "source": [
    "### Вывод"
   ]
  },
  {
   "cell_type": "markdown",
   "metadata": {},
   "source": [
    "Из расчетов видно, что при оформлении кредита на \"автомобиль\" и \"образование\" риски формирования задолженности у клиентов больше, чем при оформлении кредита на \"недвижимость\" и \"свадьбу\""
   ]
  },
  {
   "cell_type": "markdown",
   "metadata": {},
   "source": [
    "### 4. Общий вывод"
   ]
  },
  {
   "cell_type": "markdown",
   "metadata": {},
   "source": [
    "<h3>Исследование надёжности заёмщиков</h3>\n",
    "\n",
    "Цель: построение модели кредитного скорингаю.\n",
    "\n",
    "Входные данные — статистика о платёжеспособности клиентов, содержит:\n",
    "\n",
    "- количество детей в семье\n",
    "- трудовой стаж в днях\n",
    "- возраст клиента в годах\n",
    "- образование клиента\n",
    "- идентификатор образования\n",
    "- семейное положение\n",
    "- идентификатор семейного положения\n",
    "- пол клиента\n",
    "- тип занятости\n",
    "- имел ли задолженность по возврату кредитов\n",
    "- доход в месяц\n",
    "- цель получения кредита\n",
    "\n",
    "Вопросы для исседования:\n",
    "\n",
    "- Есть ли зависимость между наличием детей и возвратом кредита в срок?\n",
    "- Есть ли зависимость между семейным положением и возвратом кредита в срок?\n",
    "- Есть ли зависимость между уровнем дохода и возвратом кредита в срок?\n",
    "- Как разные цели кредита влияют на его возврат в срок?\n",
    "\n",
    "\n",
    "\n",
    "<h4>В результате исседования можно сформировать следующий вывод.</h4>\n",
    "\n",
    "Для кредитной организации наиболее \"безопасным\" с точко зрения возврата кредита является клиент со следующими характеристиками. Заемщик является вдовцом или вдовой; не имеет детей; уровень дохода высокий; цель получение кредита: покупка недвижимости или проведение свадьбы.\n",
    "Одновременно с этим, наиболее рискованным с точки зрения возврата кредита является заемщик со следующими характеристиками.\n",
    "Заемщик не женат (не замужем) или состоит в гражданском браке; содержит 1, 2 или 4 детей; уровень дохода низкий или средний; цель получения кредита: автомобиль или образование.\n"
   ]
  }
 ],
 "metadata": {
  "kernelspec": {
   "display_name": "Python 3",
   "language": "python",
   "name": "python3"
  },
  "language_info": {
   "codemirror_mode": {
    "name": "ipython",
    "version": 3
   },
   "file_extension": ".py",
   "mimetype": "text/x-python",
   "name": "python",
   "nbconvert_exporter": "python",
   "pygments_lexer": "ipython3",
   "version": "3.8.5"
  }
 },
 "nbformat": 4,
 "nbformat_minor": 2
}
