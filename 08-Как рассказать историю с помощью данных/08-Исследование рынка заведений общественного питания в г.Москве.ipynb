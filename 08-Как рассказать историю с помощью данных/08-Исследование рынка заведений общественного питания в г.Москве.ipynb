{
 "cells": [
  {
   "cell_type": "markdown",
   "metadata": {},
   "source": [
    "### Введение.\n",
    "\n",
    "Перед открытием оригинального небольшого кафе, необходимо подготовить исследование рынка о заведениях общественного питания в Москве и представить призентацию инвесторам.\n",
    "\n",
    "Описание данных:\n",
    "\n",
    "Таблица `rest_data`:\n",
    "- `id` — идентификатор объекта;\n",
    "- `object_name` — название объекта общественного питания;\n",
    "- `chain` — сетевой ресторан;\n",
    "- `object_type` — тип объекта общественного питания;\n",
    "- `address` — адрес;\n",
    "- `number` — количество посадочных мест.\n",
    "\n",
    "\n",
    "<a id=\"table_of_contents\"></a>\n",
    "#### Содержание:\n",
    "* [Часть 1. Импорт библиотек и данных. Предобработка данных.](#step_1)\n",
    "* [Часть 2. Анализ данных.](#step_2)\n",
    "    * [2.1. Исследование количества объектов общественного питания по типу. Построение графика.](#step_2_1)\n",
    "    * [2.2. Исследование соотношения сетевых и несетевых заведений по количеству. Построение график.](#step_2_2)\n",
    "    * [2.3. Для какого вида объекта общественного питания характерно сетевое распространение?](#step_2_3)\n",
    "    * [2.4. Что характерно для сетевых заведений: много заведений с небольшим числом посадочных мест в каждом или мало заведений с большим количеством посадочных мест?](#step_2_4)\n",
    "    * [2.5. Исследование среднего количества посадочных мест для каждого вида объекта общественного питания . Какой вид предоставляет в среднем большее количество посадочных мест? Графики.](#step_2_5)\n",
    "    * [2.6. Запись в отдельный столбец информации об улице из столбца `address`.](#step_2_6)\n",
    "    * [2.7. Построение графика: топ-10 улиц по количеству объектов общественного питания. Вывод информации о районах Москвы, в которых находятся эти улицы.](#step_2_7)\n",
    "    * [2.8. Поиск улиц с одним объектом общественного питания. Вывод информации о районах Москвы, в которых находятся эти улицы.](#step_2_8)\n",
    "    * [2.9. Распределение количества посадочных мест в объектах общественного питания по улицам из Топ-10. Выявление закономерностей. Выявление закономерностей.](#step_2_9)\n",
    "* [Часть 3. Презентация.](#step_3)\n",
    "* [Итог.](#step_total)"
   ]
  },
  {
   "cell_type": "markdown",
   "metadata": {},
   "source": [
    "<a id=\"step_1\"></a>\n",
    "### Часть 1. Импорт библиотек и данных. Предобработка данных.\n",
    "[К содержанию](#table_of_contents)"
   ]
  },
  {
   "cell_type": "code",
   "execution_count": 1,
   "metadata": {},
   "outputs": [],
   "source": [
    "import pandas as pd\n",
    "import datetime as dt\n",
    "import matplotlib.pyplot as plt\n",
    "import numpy as np\n",
    "import seaborn as sns\n",
    "\n",
    "import requests\n",
    "from io import BytesIO\n",
    "\n",
    "import warnings\n",
    "warnings.filterwarnings('ignore')\n",
    "\n",
    "pd.set_option('display.max_colwidth', -1)"
   ]
  },
  {
   "cell_type": "code",
   "execution_count": 2,
   "metadata": {},
   "outputs": [],
   "source": [
    "# функция чтения данных из google sheets\n",
    "def data_from_g_sheets(spreadsheet_id):\n",
    "    file_name = 'https://docs.google.com/spreadsheets/d/{}/export?format=csv'.format(spreadsheet_id)\n",
    "    r = requests.get(file_name)\n",
    "    return pd.read_csv(BytesIO(r.content))"
   ]
  },
  {
   "cell_type": "code",
   "execution_count": 3,
   "metadata": {},
   "outputs": [],
   "source": [
    "try:\n",
    "    \n",
    "    rest_data = pd.read_csv('/datasets/rest_data.csv')\n",
    "    moscow_buildings = data_from_g_sheets('1rxPlZsWkab_-KvpU3WkMRbbvly6skS8JtBS0c_lmpAA')\n",
    "        \n",
    "except:\n",
    "    \n",
    "    rest_data = data_from_g_sheets('1NMZXE-2JMvWLjOSkO7ac5oBmgtAzLUJeYZwJZUfwbsM')\n",
    "    moscow_buildings = data_from_g_sheets('1rxPlZsWkab_-KvpU3WkMRbbvly6skS8JtBS0c_lmpAA')"
   ]
  },
  {
   "cell_type": "code",
   "execution_count": 4,
   "metadata": {},
   "outputs": [
    {
     "data": {
      "text/html": [
       "<div>\n",
       "<style scoped>\n",
       "    .dataframe tbody tr th:only-of-type {\n",
       "        vertical-align: middle;\n",
       "    }\n",
       "\n",
       "    .dataframe tbody tr th {\n",
       "        vertical-align: top;\n",
       "    }\n",
       "\n",
       "    .dataframe thead th {\n",
       "        text-align: right;\n",
       "    }\n",
       "</style>\n",
       "<table border=\"1\" class=\"dataframe\">\n",
       "  <thead>\n",
       "    <tr style=\"text-align: right;\">\n",
       "      <th></th>\n",
       "      <th>id</th>\n",
       "      <th>object_name</th>\n",
       "      <th>chain</th>\n",
       "      <th>object_type</th>\n",
       "      <th>address</th>\n",
       "      <th>number</th>\n",
       "    </tr>\n",
       "  </thead>\n",
       "  <tbody>\n",
       "    <tr>\n",
       "      <th>0</th>\n",
       "      <td>151635</td>\n",
       "      <td>СМЕТАНА</td>\n",
       "      <td>нет</td>\n",
       "      <td>кафе</td>\n",
       "      <td>город Москва, улица Егора Абакумова, дом 9</td>\n",
       "      <td>48</td>\n",
       "    </tr>\n",
       "    <tr>\n",
       "      <th>1</th>\n",
       "      <td>77874</td>\n",
       "      <td>Родник</td>\n",
       "      <td>нет</td>\n",
       "      <td>кафе</td>\n",
       "      <td>город Москва, улица Талалихина, дом 2/1, корпус 1</td>\n",
       "      <td>35</td>\n",
       "    </tr>\n",
       "    <tr>\n",
       "      <th>2</th>\n",
       "      <td>24309</td>\n",
       "      <td>Кафе «Академия»</td>\n",
       "      <td>нет</td>\n",
       "      <td>кафе</td>\n",
       "      <td>город Москва, Абельмановская улица, дом 6</td>\n",
       "      <td>95</td>\n",
       "    </tr>\n",
       "    <tr>\n",
       "      <th>3</th>\n",
       "      <td>21894</td>\n",
       "      <td>ПИЦЦЕТОРИЯ</td>\n",
       "      <td>да</td>\n",
       "      <td>кафе</td>\n",
       "      <td>город Москва, Абрамцевская улица, дом 1</td>\n",
       "      <td>40</td>\n",
       "    </tr>\n",
       "    <tr>\n",
       "      <th>4</th>\n",
       "      <td>119365</td>\n",
       "      <td>Кафе «Вишневая метель»</td>\n",
       "      <td>нет</td>\n",
       "      <td>кафе</td>\n",
       "      <td>город Москва, Абрамцевская улица, дом 9, корпус 1</td>\n",
       "      <td>50</td>\n",
       "    </tr>\n",
       "    <tr>\n",
       "      <th>5</th>\n",
       "      <td>27429</td>\n",
       "      <td>СТОЛ. ПРИ ГОУ СОШ № 1051</td>\n",
       "      <td>нет</td>\n",
       "      <td>столовая</td>\n",
       "      <td>город Москва, Абрамцевская улица, дом 15, корпус 1</td>\n",
       "      <td>240</td>\n",
       "    </tr>\n",
       "    <tr>\n",
       "      <th>6</th>\n",
       "      <td>148815</td>\n",
       "      <td>Брусника</td>\n",
       "      <td>да</td>\n",
       "      <td>кафе</td>\n",
       "      <td>город Москва, переулок Сивцев Вражек, дом 6/2</td>\n",
       "      <td>10</td>\n",
       "    </tr>\n",
       "    <tr>\n",
       "      <th>7</th>\n",
       "      <td>20957</td>\n",
       "      <td>Буфет МТУСИ</td>\n",
       "      <td>нет</td>\n",
       "      <td>столовая</td>\n",
       "      <td>город Москва, Авиамоторная улица, дом 8, строение 1</td>\n",
       "      <td>90</td>\n",
       "    </tr>\n",
       "    <tr>\n",
       "      <th>8</th>\n",
       "      <td>20958</td>\n",
       "      <td>КПФ СЕМЬЯ-1</td>\n",
       "      <td>нет</td>\n",
       "      <td>столовая</td>\n",
       "      <td>город Москва, Авиамоторная улица, дом 8, строение 1</td>\n",
       "      <td>150</td>\n",
       "    </tr>\n",
       "    <tr>\n",
       "      <th>9</th>\n",
       "      <td>28858</td>\n",
       "      <td>Столовая МТУСИ</td>\n",
       "      <td>нет</td>\n",
       "      <td>столовая</td>\n",
       "      <td>город Москва, Авиамоторная улица, дом 8, строение 1</td>\n",
       "      <td>120</td>\n",
       "    </tr>\n",
       "  </tbody>\n",
       "</table>\n",
       "</div>"
      ],
      "text/plain": [
       "       id               object_name chain object_type  \\\n",
       "0  151635  СМЕТАНА                   нет   кафе         \n",
       "1  77874   Родник                    нет   кафе         \n",
       "2  24309   Кафе «Академия»           нет   кафе         \n",
       "3  21894   ПИЦЦЕТОРИЯ                да    кафе         \n",
       "4  119365  Кафе «Вишневая метель»    нет   кафе         \n",
       "5  27429   СТОЛ. ПРИ ГОУ СОШ № 1051  нет   столовая     \n",
       "6  148815  Брусника                  да    кафе         \n",
       "7  20957   Буфет МТУСИ               нет   столовая     \n",
       "8  20958   КПФ СЕМЬЯ-1               нет   столовая     \n",
       "9  28858   Столовая МТУСИ            нет   столовая     \n",
       "\n",
       "                                               address  number  \n",
       "0  город Москва, улица Егора Абакумова, дом 9           48      \n",
       "1  город Москва, улица Талалихина, дом 2/1, корпус 1    35      \n",
       "2  город Москва, Абельмановская улица, дом 6            95      \n",
       "3  город Москва, Абрамцевская улица, дом 1              40      \n",
       "4  город Москва, Абрамцевская улица, дом 9, корпус 1    50      \n",
       "5  город Москва, Абрамцевская улица, дом 15, корпус 1   240     \n",
       "6  город Москва, переулок Сивцев Вражек, дом 6/2        10      \n",
       "7  город Москва, Авиамоторная улица, дом 8, строение 1  90      \n",
       "8  город Москва, Авиамоторная улица, дом 8, строение 1  150     \n",
       "9  город Москва, Авиамоторная улица, дом 8, строение 1  120     "
      ]
     },
     "metadata": {},
     "output_type": "display_data"
    }
   ],
   "source": [
    "display(rest_data.head(10))"
   ]
  },
  {
   "cell_type": "code",
   "execution_count": 5,
   "metadata": {
    "scrolled": true
   },
   "outputs": [
    {
     "name": "stdout",
     "output_type": "stream",
     "text": [
      "<class 'pandas.core.frame.DataFrame'>\n",
      "RangeIndex: 15366 entries, 0 to 15365\n",
      "Data columns (total 6 columns):\n",
      " #   Column       Non-Null Count  Dtype \n",
      "---  ------       --------------  ----- \n",
      " 0   id           15366 non-null  int64 \n",
      " 1   object_name  15366 non-null  object\n",
      " 2   chain        15366 non-null  object\n",
      " 3   object_type  15366 non-null  object\n",
      " 4   address      15366 non-null  object\n",
      " 5   number       15366 non-null  int64 \n",
      "dtypes: int64(2), object(4)\n",
      "memory usage: 720.4+ KB\n"
     ]
    },
    {
     "data": {
      "text/plain": [
       "None"
      ]
     },
     "metadata": {},
     "output_type": "display_data"
    }
   ],
   "source": [
    "display(rest_data.info())"
   ]
  },
  {
   "cell_type": "markdown",
   "metadata": {},
   "source": [
    "Замена типа данных в столбце id с int64 на object (для исключения арифметических действий над данными столбца):"
   ]
  },
  {
   "cell_type": "code",
   "execution_count": 6,
   "metadata": {},
   "outputs": [],
   "source": [
    "rest_data['id'] = rest_data['id'].astype('object')"
   ]
  },
  {
   "cell_type": "markdown",
   "metadata": {},
   "source": [
    "Замена верхнего регистра на нижний в данных столбцов object_name и address:"
   ]
  },
  {
   "cell_type": "code",
   "execution_count": 7,
   "metadata": {
    "scrolled": true
   },
   "outputs": [],
   "source": [
    "rest_data['object_name'] = rest_data['object_name'].str.lower()\n",
    "rest_data['address'] = rest_data['address'].str.lower()\n",
    "#display(rest_data['chain'].value_counts())"
   ]
  },
  {
   "cell_type": "markdown",
   "metadata": {},
   "source": [
    "Замена длинных названий в столбце `object_type` на более короткие:"
   ]
  },
  {
   "cell_type": "code",
   "execution_count": 8,
   "metadata": {},
   "outputs": [
    {
     "data": {
      "text/plain": [
       "кафе                6099\n",
       "столовая            2587\n",
       "ресторан            2285\n",
       "фаст-фуд            1923\n",
       "бар                 856 \n",
       "буфет               585 \n",
       "кафетерий           398 \n",
       "закусочная          360 \n",
       "кулинарный отдел    273 \n",
       "Name: object_type, dtype: int64"
      ]
     },
     "metadata": {},
     "output_type": "display_data"
    }
   ],
   "source": [
    "rest_data['object_type'] = rest_data['object_type'].str.replace('предприятие быстрого обслуживания', 'фаст-фуд')\n",
    "rest_data['object_type'] = rest_data['object_type'].str.replace('магазин \\(отдел кулинарии\\)', 'кулинарный отдел')\n",
    "display(rest_data['object_type'].value_counts())"
   ]
  },
  {
   "cell_type": "markdown",
   "metadata": {},
   "source": [
    "Замена в столбце `chain` значений \"да\" / \"нет\" на \"сетевое\" / \"несетевое\""
   ]
  },
  {
   "cell_type": "code",
   "execution_count": 9,
   "metadata": {},
   "outputs": [
    {
     "data": {
      "text/html": [
       "<div>\n",
       "<style scoped>\n",
       "    .dataframe tbody tr th:only-of-type {\n",
       "        vertical-align: middle;\n",
       "    }\n",
       "\n",
       "    .dataframe tbody tr th {\n",
       "        vertical-align: top;\n",
       "    }\n",
       "\n",
       "    .dataframe thead th {\n",
       "        text-align: right;\n",
       "    }\n",
       "</style>\n",
       "<table border=\"1\" class=\"dataframe\">\n",
       "  <thead>\n",
       "    <tr style=\"text-align: right;\">\n",
       "      <th></th>\n",
       "      <th>id</th>\n",
       "      <th>object_name</th>\n",
       "      <th>chain</th>\n",
       "      <th>object_type</th>\n",
       "      <th>address</th>\n",
       "      <th>number</th>\n",
       "    </tr>\n",
       "  </thead>\n",
       "  <tbody>\n",
       "    <tr>\n",
       "      <th>0</th>\n",
       "      <td>151635</td>\n",
       "      <td>сметана</td>\n",
       "      <td>несетевое</td>\n",
       "      <td>кафе</td>\n",
       "      <td>город москва, улица егора абакумова, дом 9</td>\n",
       "      <td>48</td>\n",
       "    </tr>\n",
       "    <tr>\n",
       "      <th>1</th>\n",
       "      <td>77874</td>\n",
       "      <td>родник</td>\n",
       "      <td>несетевое</td>\n",
       "      <td>кафе</td>\n",
       "      <td>город москва, улица талалихина, дом 2/1, корпус 1</td>\n",
       "      <td>35</td>\n",
       "    </tr>\n",
       "    <tr>\n",
       "      <th>2</th>\n",
       "      <td>24309</td>\n",
       "      <td>кафе «академия»</td>\n",
       "      <td>несетевое</td>\n",
       "      <td>кафе</td>\n",
       "      <td>город москва, абельмановская улица, дом 6</td>\n",
       "      <td>95</td>\n",
       "    </tr>\n",
       "    <tr>\n",
       "      <th>3</th>\n",
       "      <td>21894</td>\n",
       "      <td>пиццетория</td>\n",
       "      <td>сетевое</td>\n",
       "      <td>кафе</td>\n",
       "      <td>город москва, абрамцевская улица, дом 1</td>\n",
       "      <td>40</td>\n",
       "    </tr>\n",
       "    <tr>\n",
       "      <th>4</th>\n",
       "      <td>119365</td>\n",
       "      <td>кафе «вишневая метель»</td>\n",
       "      <td>несетевое</td>\n",
       "      <td>кафе</td>\n",
       "      <td>город москва, абрамцевская улица, дом 9, корпус 1</td>\n",
       "      <td>50</td>\n",
       "    </tr>\n",
       "    <tr>\n",
       "      <th>5</th>\n",
       "      <td>27429</td>\n",
       "      <td>стол. при гоу сош № 1051</td>\n",
       "      <td>несетевое</td>\n",
       "      <td>столовая</td>\n",
       "      <td>город москва, абрамцевская улица, дом 15, корпус 1</td>\n",
       "      <td>240</td>\n",
       "    </tr>\n",
       "    <tr>\n",
       "      <th>6</th>\n",
       "      <td>148815</td>\n",
       "      <td>брусника</td>\n",
       "      <td>сетевое</td>\n",
       "      <td>кафе</td>\n",
       "      <td>город москва, переулок сивцев вражек, дом 6/2</td>\n",
       "      <td>10</td>\n",
       "    </tr>\n",
       "    <tr>\n",
       "      <th>7</th>\n",
       "      <td>20957</td>\n",
       "      <td>буфет мтуси</td>\n",
       "      <td>несетевое</td>\n",
       "      <td>столовая</td>\n",
       "      <td>город москва, авиамоторная улица, дом 8, строение 1</td>\n",
       "      <td>90</td>\n",
       "    </tr>\n",
       "    <tr>\n",
       "      <th>8</th>\n",
       "      <td>20958</td>\n",
       "      <td>кпф семья-1</td>\n",
       "      <td>несетевое</td>\n",
       "      <td>столовая</td>\n",
       "      <td>город москва, авиамоторная улица, дом 8, строение 1</td>\n",
       "      <td>150</td>\n",
       "    </tr>\n",
       "    <tr>\n",
       "      <th>9</th>\n",
       "      <td>28858</td>\n",
       "      <td>столовая мтуси</td>\n",
       "      <td>несетевое</td>\n",
       "      <td>столовая</td>\n",
       "      <td>город москва, авиамоторная улица, дом 8, строение 1</td>\n",
       "      <td>120</td>\n",
       "    </tr>\n",
       "  </tbody>\n",
       "</table>\n",
       "</div>"
      ],
      "text/plain": [
       "       id               object_name      chain object_type  \\\n",
       "0  151635  сметана                   несетевое  кафе         \n",
       "1  77874   родник                    несетевое  кафе         \n",
       "2  24309   кафе «академия»           несетевое  кафе         \n",
       "3  21894   пиццетория                сетевое    кафе         \n",
       "4  119365  кафе «вишневая метель»    несетевое  кафе         \n",
       "5  27429   стол. при гоу сош № 1051  несетевое  столовая     \n",
       "6  148815  брусника                  сетевое    кафе         \n",
       "7  20957   буфет мтуси               несетевое  столовая     \n",
       "8  20958   кпф семья-1               несетевое  столовая     \n",
       "9  28858   столовая мтуси            несетевое  столовая     \n",
       "\n",
       "                                               address  number  \n",
       "0  город москва, улица егора абакумова, дом 9           48      \n",
       "1  город москва, улица талалихина, дом 2/1, корпус 1    35      \n",
       "2  город москва, абельмановская улица, дом 6            95      \n",
       "3  город москва, абрамцевская улица, дом 1              40      \n",
       "4  город москва, абрамцевская улица, дом 9, корпус 1    50      \n",
       "5  город москва, абрамцевская улица, дом 15, корпус 1   240     \n",
       "6  город москва, переулок сивцев вражек, дом 6/2        10      \n",
       "7  город москва, авиамоторная улица, дом 8, строение 1  90      \n",
       "8  город москва, авиамоторная улица, дом 8, строение 1  150     \n",
       "9  город москва, авиамоторная улица, дом 8, строение 1  120     "
      ]
     },
     "metadata": {},
     "output_type": "display_data"
    }
   ],
   "source": [
    "rest_data['chain'] = rest_data['chain'].str.replace('да', 'сетевое')\n",
    "rest_data['chain'] = rest_data['chain'].str.replace('нет', 'несетевое')\n",
    "display(rest_data.head(10))"
   ]
  },
  {
   "cell_type": "code",
   "execution_count": 10,
   "metadata": {
    "scrolled": true
   },
   "outputs": [
    {
     "name": "stdout",
     "output_type": "stream",
     "text": [
      "Количество дубликатов в таблице rest_data: 0\n"
     ]
    }
   ],
   "source": [
    "print('Количество дубликатов в таблице rest_data:', rest_data.duplicated().sum())"
   ]
  },
  {
   "cell_type": "markdown",
   "metadata": {},
   "source": [
    "Проверка частичных дублей, игнорируем столбцы: `id` и `number`:"
   ]
  },
  {
   "cell_type": "code",
   "execution_count": 11,
   "metadata": {
    "scrolled": true
   },
   "outputs": [
    {
     "data": {
      "text/plain": [
       "183"
      ]
     },
     "execution_count": 11,
     "metadata": {},
     "output_type": "execute_result"
    }
   ],
   "source": [
    "rest_data.duplicated(subset=['object_name', 'chain', 'object_type', 'address']).sum()"
   ]
  },
  {
   "cell_type": "code",
   "execution_count": 12,
   "metadata": {
    "scrolled": true
   },
   "outputs": [
    {
     "data": {
      "text/html": [
       "<div>\n",
       "<style scoped>\n",
       "    .dataframe tbody tr th:only-of-type {\n",
       "        vertical-align: middle;\n",
       "    }\n",
       "\n",
       "    .dataframe tbody tr th {\n",
       "        vertical-align: top;\n",
       "    }\n",
       "\n",
       "    .dataframe thead th {\n",
       "        text-align: right;\n",
       "    }\n",
       "</style>\n",
       "<table border=\"1\" class=\"dataframe\">\n",
       "  <thead>\n",
       "    <tr style=\"text-align: right;\">\n",
       "      <th></th>\n",
       "      <th>id</th>\n",
       "      <th>object_name</th>\n",
       "      <th>chain</th>\n",
       "      <th>object_type</th>\n",
       "      <th>address</th>\n",
       "      <th>number</th>\n",
       "    </tr>\n",
       "  </thead>\n",
       "  <tbody>\n",
       "    <tr>\n",
       "      <th>115</th>\n",
       "      <td>28614</td>\n",
       "      <td>комбинат питания мгту им.н.э.баумана</td>\n",
       "      <td>несетевое</td>\n",
       "      <td>буфет</td>\n",
       "      <td>город москва, бригадирский переулок, дом 3-5</td>\n",
       "      <td>12</td>\n",
       "    </tr>\n",
       "    <tr>\n",
       "      <th>580</th>\n",
       "      <td>149205</td>\n",
       "      <td>общественное питание</td>\n",
       "      <td>несетевое</td>\n",
       "      <td>кафе</td>\n",
       "      <td>город москва, павелецкая площадь, дом 1</td>\n",
       "      <td>35</td>\n",
       "    </tr>\n",
       "    <tr>\n",
       "      <th>581</th>\n",
       "      <td>149131</td>\n",
       "      <td>общественное питание</td>\n",
       "      <td>несетевое</td>\n",
       "      <td>кафе</td>\n",
       "      <td>город москва, павелецкая площадь, дом 1</td>\n",
       "      <td>39</td>\n",
       "    </tr>\n",
       "    <tr>\n",
       "      <th>1409</th>\n",
       "      <td>151267</td>\n",
       "      <td>альфорно</td>\n",
       "      <td>несетевое</td>\n",
       "      <td>кафе</td>\n",
       "      <td>город москва, город зеленоград, корпус 438</td>\n",
       "      <td>45</td>\n",
       "    </tr>\n",
       "    <tr>\n",
       "      <th>2375</th>\n",
       "      <td>28604</td>\n",
       "      <td>комбинат питания мгту им.н.э.баумана</td>\n",
       "      <td>несетевое</td>\n",
       "      <td>столовая</td>\n",
       "      <td>город москва, 2-я бауманская улица, дом 5, строение 1</td>\n",
       "      <td>150</td>\n",
       "    </tr>\n",
       "  </tbody>\n",
       "</table>\n",
       "</div>"
      ],
      "text/plain": [
       "          id                           object_name      chain object_type  \\\n",
       "115   28614   комбинат питания мгту им.н.э.баумана  несетевое  буфет        \n",
       "580   149205  общественное питание                  несетевое  кафе         \n",
       "581   149131  общественное питание                  несетевое  кафе         \n",
       "1409  151267  альфорно                              несетевое  кафе         \n",
       "2375  28604   комбинат питания мгту им.н.э.баумана  несетевое  столовая     \n",
       "\n",
       "                                                    address  number  \n",
       "115   город москва, бригадирский переулок, дом 3-5           12      \n",
       "580   город москва, павелецкая площадь, дом 1                35      \n",
       "581   город москва, павелецкая площадь, дом 1                39      \n",
       "1409  город москва, город зеленоград, корпус 438             45      \n",
       "2375  город москва, 2-я бауманская улица, дом 5, строение 1  150     "
      ]
     },
     "execution_count": 12,
     "metadata": {},
     "output_type": "execute_result"
    }
   ],
   "source": [
    "rest_data[rest_data.duplicated(subset=['object_name', 'chain', 'object_type', 'address']) == True].head(5)"
   ]
  },
  {
   "cell_type": "markdown",
   "metadata": {},
   "source": [
    "Удаляем частичные дубли:"
   ]
  },
  {
   "cell_type": "code",
   "execution_count": 13,
   "metadata": {},
   "outputs": [],
   "source": [
    "rest_data = rest_data.drop_duplicates(subset=['object_name', 'chain', 'object_type', 'address'])"
   ]
  },
  {
   "cell_type": "code",
   "execution_count": 14,
   "metadata": {},
   "outputs": [
    {
     "name": "stdout",
     "output_type": "stream",
     "text": [
      "<class 'pandas.core.frame.DataFrame'>\n",
      "Int64Index: 15183 entries, 0 to 15364\n",
      "Data columns (total 6 columns):\n",
      " #   Column       Non-Null Count  Dtype \n",
      "---  ------       --------------  ----- \n",
      " 0   id           15183 non-null  object\n",
      " 1   object_name  15183 non-null  object\n",
      " 2   chain        15183 non-null  object\n",
      " 3   object_type  15183 non-null  object\n",
      " 4   address      15183 non-null  object\n",
      " 5   number       15183 non-null  int64 \n",
      "dtypes: int64(1), object(5)\n",
      "memory usage: 830.3+ KB\n"
     ]
    }
   ],
   "source": [
    "rest_data.info()"
   ]
  },
  {
   "cell_type": "markdown",
   "metadata": {},
   "source": [
    "<a id = \"step_2\"></a>\n",
    "### Часть 2. Анализ данных.\n",
    "[К содержанию](#table_of_contents)"
   ]
  },
  {
   "cell_type": "markdown",
   "metadata": {},
   "source": [
    "<a id = \"step_2_1\"></a>\n",
    "##### 2.1. Исследование количества объектов общественного питания по типу. Построение графика.\n",
    "[К содержанию](#table_of_contents)"
   ]
  },
  {
   "cell_type": "code",
   "execution_count": 15,
   "metadata": {},
   "outputs": [
    {
     "data": {
      "text/html": [
       "<div>\n",
       "<style scoped>\n",
       "    .dataframe tbody tr th:only-of-type {\n",
       "        vertical-align: middle;\n",
       "    }\n",
       "\n",
       "    .dataframe tbody tr th {\n",
       "        vertical-align: top;\n",
       "    }\n",
       "\n",
       "    .dataframe thead th {\n",
       "        text-align: right;\n",
       "    }\n",
       "</style>\n",
       "<table border=\"1\" class=\"dataframe\">\n",
       "  <thead>\n",
       "    <tr style=\"text-align: right;\">\n",
       "      <th></th>\n",
       "      <th>index</th>\n",
       "      <th>object_type</th>\n",
       "    </tr>\n",
       "  </thead>\n",
       "  <tbody>\n",
       "    <tr>\n",
       "      <th>0</th>\n",
       "      <td>кафе</td>\n",
       "      <td>6008</td>\n",
       "    </tr>\n",
       "    <tr>\n",
       "      <th>1</th>\n",
       "      <td>столовая</td>\n",
       "      <td>2575</td>\n",
       "    </tr>\n",
       "    <tr>\n",
       "      <th>2</th>\n",
       "      <td>ресторан</td>\n",
       "      <td>2275</td>\n",
       "    </tr>\n",
       "    <tr>\n",
       "      <th>3</th>\n",
       "      <td>фаст-фуд</td>\n",
       "      <td>1890</td>\n",
       "    </tr>\n",
       "    <tr>\n",
       "      <th>4</th>\n",
       "      <td>бар</td>\n",
       "      <td>853</td>\n",
       "    </tr>\n",
       "    <tr>\n",
       "      <th>5</th>\n",
       "      <td>буфет</td>\n",
       "      <td>570</td>\n",
       "    </tr>\n",
       "    <tr>\n",
       "      <th>6</th>\n",
       "      <td>кафетерий</td>\n",
       "      <td>393</td>\n",
       "    </tr>\n",
       "    <tr>\n",
       "      <th>7</th>\n",
       "      <td>закусочная</td>\n",
       "      <td>347</td>\n",
       "    </tr>\n",
       "    <tr>\n",
       "      <th>8</th>\n",
       "      <td>кулинарный отдел</td>\n",
       "      <td>272</td>\n",
       "    </tr>\n",
       "  </tbody>\n",
       "</table>\n",
       "</div>"
      ],
      "text/plain": [
       "              index  object_type\n",
       "0  кафе              6008       \n",
       "1  столовая          2575       \n",
       "2  ресторан          2275       \n",
       "3  фаст-фуд          1890       \n",
       "4  бар               853        \n",
       "5  буфет             570        \n",
       "6  кафетерий         393        \n",
       "7  закусочная        347        \n",
       "8  кулинарный отдел  272        "
      ]
     },
     "metadata": {},
     "output_type": "display_data"
    }
   ],
   "source": [
    "display(rest_data['object_type'].value_counts().reset_index())"
   ]
  },
  {
   "cell_type": "code",
   "execution_count": 16,
   "metadata": {},
   "outputs": [
    {
     "data": {
      "image/png": "[encoded data removed]",
      "text/plain": [
       "<Figure size 1152x360 with 1 Axes>"
      ]
     },
     "metadata": {
      "needs_background": "light"
     },
     "output_type": "display_data"
    }
   ],
   "source": [
    "plt.style.use('bmh')\n",
    "plt.figure(figsize = (16, 5))\n",
    "plt.title('Количество объектов общественного питания по типу')\n",
    "plt.xlabel('Тип объекта общественного питания')\n",
    "plt.ylabel('Количество, шт.')\n",
    "tmp01 = rest_data['object_type'].value_counts().plot(kind = 'bar')\n",
    "for p in tmp01.patches:\n",
    "    tmp01.annotate(format(p.get_height(), '.0f'), \n",
    "                   (p.get_x() + p.get_width() / 2., p.get_height()), \n",
    "                   ha = 'center', va = 'center', \n",
    "                   xytext = (0, 9), \n",
    "                   textcoords = 'offset points')\n",
    "tmp01.set_ylim(0, 6500)    \n",
    "plt.xticks(rotation = 45) \n",
    "plt.show()"
   ]
  },
  {
   "cell_type": "markdown",
   "metadata": {},
   "source": [
    "##### 2.1. Вывод.\n",
    "\n",
    "Наиболее распространенный тип объекта общественного питания - кафе, затем: столовая и ресторан. Кулинарный отдел наименее растпространенный тип объекта общественного питания."
   ]
  },
  {
   "cell_type": "markdown",
   "metadata": {},
   "source": [
    "<a id = \"step_2_2\"></a>\n",
    "##### 2.2. Исследование соотношения сетевых и несетевых заведений по количеству. Построение график.\n",
    "[К содержанию](#table_of_contents)"
   ]
  },
  {
   "cell_type": "code",
   "execution_count": 17,
   "metadata": {
    "scrolled": true
   },
   "outputs": [
    {
     "data": {
      "text/html": [
       "<div>\n",
       "<style scoped>\n",
       "    .dataframe tbody tr th:only-of-type {\n",
       "        vertical-align: middle;\n",
       "    }\n",
       "\n",
       "    .dataframe tbody tr th {\n",
       "        vertical-align: top;\n",
       "    }\n",
       "\n",
       "    .dataframe thead th {\n",
       "        text-align: right;\n",
       "    }\n",
       "</style>\n",
       "<table border=\"1\" class=\"dataframe\">\n",
       "  <thead>\n",
       "    <tr style=\"text-align: right;\">\n",
       "      <th></th>\n",
       "      <th>index</th>\n",
       "      <th>chain</th>\n",
       "    </tr>\n",
       "  </thead>\n",
       "  <tbody>\n",
       "    <tr>\n",
       "      <th>0</th>\n",
       "      <td>несетевое</td>\n",
       "      <td>12234</td>\n",
       "    </tr>\n",
       "    <tr>\n",
       "      <th>1</th>\n",
       "      <td>сетевое</td>\n",
       "      <td>2949</td>\n",
       "    </tr>\n",
       "  </tbody>\n",
       "</table>\n",
       "</div>"
      ],
      "text/plain": [
       "       index  chain\n",
       "0  несетевое  12234\n",
       "1  сетевое    2949 "
      ]
     },
     "metadata": {},
     "output_type": "display_data"
    }
   ],
   "source": [
    "display(rest_data['chain'].value_counts().reset_index())"
   ]
  },
  {
   "cell_type": "code",
   "execution_count": 18,
   "metadata": {},
   "outputs": [],
   "source": [
    "tmp02 = rest_data.groupby(['object_type', 'chain']).count().reset_index()"
   ]
  },
  {
   "cell_type": "code",
   "execution_count": 19,
   "metadata": {},
   "outputs": [
    {
     "data": {
      "image/png": "[encoded data removed]",
      "text/plain": [
       "<Figure size 1152x360 with 1 Axes>"
      ]
     },
     "metadata": {
      "needs_background": "light"
     },
     "output_type": "display_data"
    }
   ],
   "source": [
    "plt.figure(figsize = (16, 5))\n",
    "plt.title('Количество сетевых / не сетевых объектов общественного питания по типу')\n",
    "tmp03 = sns.barplot(x = 'object_type', y = 'id', hue = 'chain', data = tmp02) \n",
    "for p in tmp03.patches:\n",
    "    tmp03.annotate(format(p.get_height(), '.0f'), \n",
    "                   (p.get_x() + p.get_width() / 2., p.get_height()), \n",
    "                   ha = 'center', va = 'center', \n",
    "                   xytext = (0, 9), \n",
    "                   textcoords = 'offset points')\n",
    "tmp03.set_ylim(0, 5000)\n",
    "plt.xlabel('Тип объекта общественного питания')\n",
    "plt.ylabel('Количество сетевых / не сетевых, шт.')\n",
    "plt.show()"
   ]
  },
  {
   "cell_type": "markdown",
   "metadata": {},
   "source": [
    "##### 2.2. Вывод.\n",
    "\n",
    "В целом, несетевых объектов общественного питания более чем в 4 раза больше, чем сетевых."
   ]
  },
  {
   "cell_type": "markdown",
   "metadata": {},
   "source": [
    "<a id = \"step_2_3\"></a>\n",
    "##### 2.3. Для какого вида объекта общественного питания характерно сетевое распространение?\n",
    "[К содержанию](#table_of_contents)"
   ]
  },
  {
   "cell_type": "code",
   "execution_count": 20,
   "metadata": {},
   "outputs": [],
   "source": [
    "tmp04 = rest_data['object_type'].value_counts().reset_index()\n",
    "rest_data_chein = rest_data.query('chain == \"сетевое\"')\n",
    "tmp05 = rest_data_chein['object_type'].value_counts().reset_index()"
   ]
  },
  {
   "cell_type": "code",
   "execution_count": 21,
   "metadata": {},
   "outputs": [
    {
     "data": {
      "text/html": [
       "<div>\n",
       "<style scoped>\n",
       "    .dataframe tbody tr th:only-of-type {\n",
       "        vertical-align: middle;\n",
       "    }\n",
       "\n",
       "    .dataframe tbody tr th {\n",
       "        vertical-align: top;\n",
       "    }\n",
       "\n",
       "    .dataframe thead th {\n",
       "        text-align: right;\n",
       "    }\n",
       "</style>\n",
       "<table border=\"1\" class=\"dataframe\">\n",
       "  <thead>\n",
       "    <tr style=\"text-align: right;\">\n",
       "      <th></th>\n",
       "      <th>index</th>\n",
       "      <th>percent</th>\n",
       "    </tr>\n",
       "  </thead>\n",
       "  <tbody>\n",
       "    <tr>\n",
       "      <th>0</th>\n",
       "      <td>фаст-фуд</td>\n",
       "      <td>41.48</td>\n",
       "    </tr>\n",
       "    <tr>\n",
       "      <th>1</th>\n",
       "      <td>кулинарный отдел</td>\n",
       "      <td>28.68</td>\n",
       "    </tr>\n",
       "    <tr>\n",
       "      <th>2</th>\n",
       "      <td>ресторан</td>\n",
       "      <td>23.82</td>\n",
       "    </tr>\n",
       "    <tr>\n",
       "      <th>3</th>\n",
       "      <td>кафе</td>\n",
       "      <td>23.09</td>\n",
       "    </tr>\n",
       "    <tr>\n",
       "      <th>4</th>\n",
       "      <td>закусочная</td>\n",
       "      <td>16.14</td>\n",
       "    </tr>\n",
       "    <tr>\n",
       "      <th>5</th>\n",
       "      <td>кафетерий</td>\n",
       "      <td>12.98</td>\n",
       "    </tr>\n",
       "    <tr>\n",
       "      <th>6</th>\n",
       "      <td>бар</td>\n",
       "      <td>4.34</td>\n",
       "    </tr>\n",
       "    <tr>\n",
       "      <th>7</th>\n",
       "      <td>буфет</td>\n",
       "      <td>1.93</td>\n",
       "    </tr>\n",
       "    <tr>\n",
       "      <th>8</th>\n",
       "      <td>столовая</td>\n",
       "      <td>0.12</td>\n",
       "    </tr>\n",
       "  </tbody>\n",
       "</table>\n",
       "</div>"
      ],
      "text/plain": [
       "              index  percent\n",
       "0  фаст-фуд          41.48  \n",
       "1  кулинарный отдел  28.68  \n",
       "2  ресторан          23.82  \n",
       "3  кафе              23.09  \n",
       "4  закусочная        16.14  \n",
       "5  кафетерий         12.98  \n",
       "6  бар               4.34   \n",
       "7  буфет             1.93   \n",
       "8  столовая          0.12   "
      ]
     },
     "execution_count": 21,
     "metadata": {},
     "output_type": "execute_result"
    }
   ],
   "source": [
    "tmp06 = pd.merge(tmp04, tmp05, on = 'index')\n",
    "tmp06['percent'] = (tmp06['object_type_y'] / tmp06['object_type_x'] * 100).round(2)\n",
    "tmp06 = tmp06.sort_values('percent', ascending = False).reset_index()\n",
    "tmp06[['index', 'percent']]"
   ]
  },
  {
   "cell_type": "markdown",
   "metadata": {},
   "source": [
    "##### 2.3. Вывод.\n",
    "\n",
    "Наиболее характерно сетевое распространение для такого типа общественного питания, как: фаст-фуд - 41% от всех объектов данного типа - сетевые. Наименее: столовая - менее процента сетевых."
   ]
  },
  {
   "cell_type": "markdown",
   "metadata": {},
   "source": [
    "<a id = \"step_2_4\"></a>\n",
    "##### 2.4. Что характерно для сетевых заведений: много заведений с небольшим числом посадочных мест в каждом или мало заведений с большим количеством посадочных мест?\n",
    "[К содержанию](#table_of_contents)"
   ]
  },
  {
   "cell_type": "code",
   "execution_count": 22,
   "metadata": {},
   "outputs": [
    {
     "data": {
      "text/plain": [
       "count    2949.00\n",
       "mean     53.00  \n",
       "std      57.22  \n",
       "min      0.00   \n",
       "25%      15.00  \n",
       "50%      40.00  \n",
       "75%      72.00  \n",
       "max      580.00 \n",
       "Name: number, dtype: float64"
      ]
     },
     "execution_count": 22,
     "metadata": {},
     "output_type": "execute_result"
    }
   ],
   "source": [
    "rest_data_chein['number'].describe(include='all').round(2)"
   ]
  },
  {
   "cell_type": "code",
   "execution_count": 23,
   "metadata": {},
   "outputs": [
    {
     "data": {
      "image/png": "[encoded data removed]",
      "text/plain": [
       "<Figure size 720x360 with 1 Axes>"
      ]
     },
     "metadata": {
      "needs_background": "light"
     },
     "output_type": "display_data"
    }
   ],
   "source": [
    "plt.figure(figsize = (10, 5))\n",
    "plt.title('Распределение количества посадочных мест в сетевых объектах общ. питания')\n",
    "plt.ylabel('Количество мест')\n",
    "sns.distplot(rest_data_chein['number'], bins = 50, kde = False) \n",
    "plt.xlabel('Посадочные места')\n",
    "plt.show()"
   ]
  },
  {
   "cell_type": "code",
   "execution_count": 24,
   "metadata": {},
   "outputs": [
    {
     "data": {
      "image/png": "[encoded data removed]",
      "text/plain": [
       "<Figure size 1152x360 with 1 Axes>"
      ]
     },
     "metadata": {
      "needs_background": "light"
     },
     "output_type": "display_data"
    }
   ],
   "source": [
    "plt.figure(figsize = (16, 5))\n",
    "plt.title('Диаграмма размаха распределения количества посадочных мест в сетевых объектах общ. питания')\n",
    "plt.ylabel('Распределение')\n",
    "sns.boxplot(x = 'number', data = rest_data_chein)\n",
    "plt.xlabel('Посадочные места')\n",
    "plt.show()"
   ]
  },
  {
   "cell_type": "markdown",
   "metadata": {},
   "source": [
    "Отношение среднего количества посадочных мест к размеру сети общественного питания:"
   ]
  },
  {
   "cell_type": "code",
   "execution_count": 25,
   "metadata": {},
   "outputs": [],
   "source": [
    "rest_data_chein_scatter = rest_data_chein.groupby('object_type')\\\n",
    "                                .agg({'object_type' : 'count', 'number' : 'mean'}).astype('int64')\n",
    "rest_data_chein_scatter.columns = ['object_size', 'seats_mean']"
   ]
  },
  {
   "cell_type": "code",
   "execution_count": 26,
   "metadata": {
    "scrolled": true
   },
   "outputs": [],
   "source": [
    "rest_data_chein_scatter = rest_data_chein_scatter.reset_index()"
   ]
  },
  {
   "cell_type": "code",
   "execution_count": 27,
   "metadata": {},
   "outputs": [
    {
     "data": {
      "text/html": [
       "<div>\n",
       "<style scoped>\n",
       "    .dataframe tbody tr th:only-of-type {\n",
       "        vertical-align: middle;\n",
       "    }\n",
       "\n",
       "    .dataframe tbody tr th {\n",
       "        vertical-align: top;\n",
       "    }\n",
       "\n",
       "    .dataframe thead th {\n",
       "        text-align: right;\n",
       "    }\n",
       "</style>\n",
       "<table border=\"1\" class=\"dataframe\">\n",
       "  <thead>\n",
       "    <tr style=\"text-align: right;\">\n",
       "      <th></th>\n",
       "      <th>object_type</th>\n",
       "      <th>object_size</th>\n",
       "      <th>seats_mean</th>\n",
       "    </tr>\n",
       "  </thead>\n",
       "  <tbody>\n",
       "    <tr>\n",
       "      <th>0</th>\n",
       "      <td>бар</td>\n",
       "      <td>37</td>\n",
       "      <td>53</td>\n",
       "    </tr>\n",
       "    <tr>\n",
       "      <th>1</th>\n",
       "      <td>буфет</td>\n",
       "      <td>11</td>\n",
       "      <td>12</td>\n",
       "    </tr>\n",
       "    <tr>\n",
       "      <th>2</th>\n",
       "      <td>закусочная</td>\n",
       "      <td>56</td>\n",
       "      <td>14</td>\n",
       "    </tr>\n",
       "    <tr>\n",
       "      <th>3</th>\n",
       "      <td>кафе</td>\n",
       "      <td>1387</td>\n",
       "      <td>47</td>\n",
       "    </tr>\n",
       "    <tr>\n",
       "      <th>4</th>\n",
       "      <td>кафетерий</td>\n",
       "      <td>51</td>\n",
       "      <td>12</td>\n",
       "    </tr>\n",
       "    <tr>\n",
       "      <th>5</th>\n",
       "      <td>кулинарный отдел</td>\n",
       "      <td>78</td>\n",
       "      <td>8</td>\n",
       "    </tr>\n",
       "    <tr>\n",
       "      <th>6</th>\n",
       "      <td>ресторан</td>\n",
       "      <td>542</td>\n",
       "      <td>100</td>\n",
       "    </tr>\n",
       "    <tr>\n",
       "      <th>7</th>\n",
       "      <td>столовая</td>\n",
       "      <td>3</td>\n",
       "      <td>112</td>\n",
       "    </tr>\n",
       "    <tr>\n",
       "      <th>8</th>\n",
       "      <td>фаст-фуд</td>\n",
       "      <td>784</td>\n",
       "      <td>40</td>\n",
       "    </tr>\n",
       "  </tbody>\n",
       "</table>\n",
       "</div>"
      ],
      "text/plain": [
       "        object_type  object_size  seats_mean\n",
       "0  бар               37           53        \n",
       "1  буфет             11           12        \n",
       "2  закусочная        56           14        \n",
       "3  кафе              1387         47        \n",
       "4  кафетерий         51           12        \n",
       "5  кулинарный отдел  78           8         \n",
       "6  ресторан          542          100       \n",
       "7  столовая          3            112       \n",
       "8  фаст-фуд          784          40        "
      ]
     },
     "execution_count": 27,
     "metadata": {},
     "output_type": "execute_result"
    }
   ],
   "source": [
    "rest_data_chein_scatter"
   ]
  },
  {
   "cell_type": "code",
   "execution_count": 28,
   "metadata": {},
   "outputs": [
    {
     "name": "stdout",
     "output_type": "stream",
     "text": [
      "\n",
      "Отношение среднего количества посадочных мест к размеру сети общественного питания:\n"
     ]
    },
    {
     "data": {
      "image/png": "[encoded data removed]",
      "text/plain": [
       "<Figure size 504x504 with 1 Axes>"
      ]
     },
     "metadata": {
      "needs_background": "light"
     },
     "output_type": "display_data"
    }
   ],
   "source": [
    "print('')\n",
    "print('Отношение среднего количества посадочных мест к размеру сети общественного питания:')\n",
    "f, ax = plt.subplots(figsize=(7, 7))\n",
    "sns.despine(f)\n",
    "ax.set_title('')\n",
    "sns.scatterplot(data = rest_data_chein_scatter, x = 'object_size', \n",
    "                y = 'seats_mean', palette = 'deep',\n",
    "                size = 'object_size', sizes = (250, 250), legend = False, ax = ax) #hue = 'object_type',\n",
    "ax.set_xlim(-100, 1500)\n",
    "ax.set_xlabel('Размера сети общественного питания')\n",
    "ax.set_ylabel('Среднее количество посадочных мест')\n",
    "plt.show()"
   ]
  },
  {
   "cell_type": "markdown",
   "metadata": {},
   "source": [
    "##### 2.4. Вывод.\n",
    "\n",
    "Для сетевых заведений более характерно: много заведений с небольшим числом посадочных мест в каждом."
   ]
  },
  {
   "cell_type": "markdown",
   "metadata": {},
   "source": [
    "<a id = \"step_2_5\"></a>\n",
    "##### 2.5. Исследование среднего количества посадочных мест для каждого вида объекта общественного питания . Какой вид предоставляет в среднем большее количество посадочных мест? Графики.\n",
    "[К содержанию](#table_of_contents)"
   ]
  },
  {
   "cell_type": "code",
   "execution_count": 29,
   "metadata": {
    "scrolled": false
   },
   "outputs": [
    {
     "data": {
      "text/html": [
       "<div>\n",
       "<style scoped>\n",
       "    .dataframe tbody tr th:only-of-type {\n",
       "        vertical-align: middle;\n",
       "    }\n",
       "\n",
       "    .dataframe tbody tr th {\n",
       "        vertical-align: top;\n",
       "    }\n",
       "\n",
       "    .dataframe thead th {\n",
       "        text-align: right;\n",
       "    }\n",
       "</style>\n",
       "<table border=\"1\" class=\"dataframe\">\n",
       "  <thead>\n",
       "    <tr style=\"text-align: right;\">\n",
       "      <th></th>\n",
       "      <th>object_type</th>\n",
       "      <th>number</th>\n",
       "    </tr>\n",
       "  </thead>\n",
       "  <tbody>\n",
       "    <tr>\n",
       "      <th>0</th>\n",
       "      <td>столовая</td>\n",
       "      <td>130</td>\n",
       "    </tr>\n",
       "    <tr>\n",
       "      <th>1</th>\n",
       "      <td>ресторан</td>\n",
       "      <td>97</td>\n",
       "    </tr>\n",
       "    <tr>\n",
       "      <th>2</th>\n",
       "      <td>буфет</td>\n",
       "      <td>51</td>\n",
       "    </tr>\n",
       "    <tr>\n",
       "      <th>3</th>\n",
       "      <td>бар</td>\n",
       "      <td>43</td>\n",
       "    </tr>\n",
       "    <tr>\n",
       "      <th>4</th>\n",
       "      <td>кафе</td>\n",
       "      <td>39</td>\n",
       "    </tr>\n",
       "    <tr>\n",
       "      <th>5</th>\n",
       "      <td>фаст-фуд</td>\n",
       "      <td>20</td>\n",
       "    </tr>\n",
       "    <tr>\n",
       "      <th>6</th>\n",
       "      <td>кафетерий</td>\n",
       "      <td>9</td>\n",
       "    </tr>\n",
       "    <tr>\n",
       "      <th>7</th>\n",
       "      <td>закусочная</td>\n",
       "      <td>7</td>\n",
       "    </tr>\n",
       "    <tr>\n",
       "      <th>8</th>\n",
       "      <td>кулинарный отдел</td>\n",
       "      <td>5</td>\n",
       "    </tr>\n",
       "  </tbody>\n",
       "</table>\n",
       "</div>"
      ],
      "text/plain": [
       "        object_type  number\n",
       "0  столовая          130   \n",
       "1  ресторан          97    \n",
       "2  буфет             51    \n",
       "3  бар               43    \n",
       "4  кафе              39    \n",
       "5  фаст-фуд          20    \n",
       "6  кафетерий         9     \n",
       "7  закусочная        7     \n",
       "8  кулинарный отдел  5     "
      ]
     },
     "execution_count": 29,
     "metadata": {},
     "output_type": "execute_result"
    }
   ],
   "source": [
    "mean_seats = rest_data.groupby('object_type')['number'].mean().astype('int64').sort_values(ascending = False).reset_index()\n",
    "mean_seats"
   ]
  },
  {
   "cell_type": "code",
   "execution_count": 30,
   "metadata": {},
   "outputs": [
    {
     "data": {
      "image/png": "[encoded data removed]",
      "text/plain": [
       "<Figure size 1152x360 with 1 Axes>"
      ]
     },
     "metadata": {
      "needs_background": "light"
     },
     "output_type": "display_data"
    }
   ],
   "source": [
    "plt.figure(figsize = (16, 5))\n",
    "plt.title('Cреднее количество посадочных мест для каждого вида объекта общественного питания')\n",
    "mean_seats_bar = sns.barplot(x = 'object_type', y = 'number', data = mean_seats)\n",
    "for p in mean_seats_bar.patches:\n",
    "    mean_seats_bar.annotate(format(p.get_height(), '.0f'), \n",
    "                   (p.get_x() + p.get_width() / 2., p.get_height()), \n",
    "                   ha = 'center', va = 'center', \n",
    "                   xytext = (0, 9), \n",
    "                   textcoords = 'offset points')\n",
    "mean_seats_bar.set_ylim(0, 145)\n",
    "plt.ylabel('Среднее количество мест')\n",
    "plt.xlabel('Вид объекта')\n",
    "plt.show()"
   ]
  },
  {
   "cell_type": "markdown",
   "metadata": {},
   "source": [
    "##### 2.5. Вывод.\n",
    "\n",
    "В среднем, самое большое количество посадочных мест предоставляют такие виды общественного питания как: столовая и ресторан. Наименее - закусочная и кулинарный отдет."
   ]
  },
  {
   "cell_type": "markdown",
   "metadata": {},
   "source": [
    "<a id = \"step_2_6\"></a>\n",
    "##### 2.6. Запись в отдельный столбец информации об улице из столбца `address` .\n",
    "[К содержанию](#table_of_contents)"
   ]
  },
  {
   "cell_type": "code",
   "execution_count": 31,
   "metadata": {},
   "outputs": [],
   "source": [
    "rest_data['streets'] = rest_data['address'].str.extract('(([А-яё0-9-\\s]+)?(улица|переулок|шоссе|площадь\\\n",
    "                                                        |проспект|проезд|бульвар|набережная|микрорайон\\\n",
    "                                                        |аллея|квартал|линия|тупик)([А-яё0-9-\\s]+)?)')[0]\n",
    "rest_data['streets'] = rest_data['streets'].str.strip()\n",
    "#rest_data.head()"
   ]
  },
  {
   "cell_type": "code",
   "execution_count": 32,
   "metadata": {
    "scrolled": false
   },
   "outputs": [
    {
     "name": "stdout",
     "output_type": "stream",
     "text": [
      "<class 'pandas.core.frame.DataFrame'>\n",
      "Int64Index: 15183 entries, 0 to 15364\n",
      "Data columns (total 7 columns):\n",
      " #   Column       Non-Null Count  Dtype \n",
      "---  ------       --------------  ----- \n",
      " 0   id           15183 non-null  object\n",
      " 1   object_name  15183 non-null  object\n",
      " 2   chain        15183 non-null  object\n",
      " 3   object_type  15183 non-null  object\n",
      " 4   address      15183 non-null  object\n",
      " 5   number       15183 non-null  int64 \n",
      " 6   streets      14429 non-null  object\n",
      "dtypes: int64(1), object(6)\n",
      "memory usage: 948.9+ KB\n"
     ]
    }
   ],
   "source": [
    "rest_data.info()"
   ]
  },
  {
   "cell_type": "code",
   "execution_count": 33,
   "metadata": {
    "scrolled": false
   },
   "outputs": [
    {
     "data": {
      "text/html": [
       "<div>\n",
       "<style scoped>\n",
       "    .dataframe tbody tr th:only-of-type {\n",
       "        vertical-align: middle;\n",
       "    }\n",
       "\n",
       "    .dataframe tbody tr th {\n",
       "        vertical-align: top;\n",
       "    }\n",
       "\n",
       "    .dataframe thead th {\n",
       "        text-align: right;\n",
       "    }\n",
       "</style>\n",
       "<table border=\"1\" class=\"dataframe\">\n",
       "  <thead>\n",
       "    <tr style=\"text-align: right;\">\n",
       "      <th></th>\n",
       "      <th>id</th>\n",
       "      <th>object_name</th>\n",
       "      <th>chain</th>\n",
       "      <th>object_type</th>\n",
       "      <th>address</th>\n",
       "      <th>number</th>\n",
       "      <th>streets</th>\n",
       "    </tr>\n",
       "  </thead>\n",
       "  <tbody>\n",
       "    <tr>\n",
       "      <th>0</th>\n",
       "      <td>151635</td>\n",
       "      <td>сметана</td>\n",
       "      <td>несетевое</td>\n",
       "      <td>кафе</td>\n",
       "      <td>город москва, улица егора абакумова, дом 9</td>\n",
       "      <td>48</td>\n",
       "      <td>улица егора абакумова</td>\n",
       "    </tr>\n",
       "    <tr>\n",
       "      <th>1</th>\n",
       "      <td>77874</td>\n",
       "      <td>родник</td>\n",
       "      <td>несетевое</td>\n",
       "      <td>кафе</td>\n",
       "      <td>город москва, улица талалихина, дом 2/1, корпус 1</td>\n",
       "      <td>35</td>\n",
       "      <td>улица талалихина</td>\n",
       "    </tr>\n",
       "    <tr>\n",
       "      <th>2</th>\n",
       "      <td>24309</td>\n",
       "      <td>кафе «академия»</td>\n",
       "      <td>несетевое</td>\n",
       "      <td>кафе</td>\n",
       "      <td>город москва, абельмановская улица, дом 6</td>\n",
       "      <td>95</td>\n",
       "      <td>абельмановская улица</td>\n",
       "    </tr>\n",
       "    <tr>\n",
       "      <th>3</th>\n",
       "      <td>21894</td>\n",
       "      <td>пиццетория</td>\n",
       "      <td>сетевое</td>\n",
       "      <td>кафе</td>\n",
       "      <td>город москва, абрамцевская улица, дом 1</td>\n",
       "      <td>40</td>\n",
       "      <td>абрамцевская улица</td>\n",
       "    </tr>\n",
       "    <tr>\n",
       "      <th>4</th>\n",
       "      <td>119365</td>\n",
       "      <td>кафе «вишневая метель»</td>\n",
       "      <td>несетевое</td>\n",
       "      <td>кафе</td>\n",
       "      <td>город москва, абрамцевская улица, дом 9, корпус 1</td>\n",
       "      <td>50</td>\n",
       "      <td>абрамцевская улица</td>\n",
       "    </tr>\n",
       "  </tbody>\n",
       "</table>\n",
       "</div>"
      ],
      "text/plain": [
       "       id             object_name      chain object_type  \\\n",
       "0  151635  сметана                 несетевое  кафе         \n",
       "1  77874   родник                  несетевое  кафе         \n",
       "2  24309   кафе «академия»         несетевое  кафе         \n",
       "3  21894   пиццетория              сетевое    кафе         \n",
       "4  119365  кафе «вишневая метель»  несетевое  кафе         \n",
       "\n",
       "                                             address  number  \\\n",
       "0  город москва, улица егора абакумова, дом 9         48       \n",
       "1  город москва, улица талалихина, дом 2/1, корпус 1  35       \n",
       "2  город москва, абельмановская улица, дом 6          95       \n",
       "3  город москва, абрамцевская улица, дом 1            40       \n",
       "4  город москва, абрамцевская улица, дом 9, корпус 1  50       \n",
       "\n",
       "                 streets  \n",
       "0  улица егора абакумова  \n",
       "1  улица талалихина       \n",
       "2  абельмановская улица   \n",
       "3  абрамцевская улица     \n",
       "4  абрамцевская улица     "
      ]
     },
     "execution_count": 33,
     "metadata": {},
     "output_type": "execute_result"
    }
   ],
   "source": [
    "rest_data.head(5)"
   ]
  },
  {
   "cell_type": "markdown",
   "metadata": {},
   "source": [
    "##### 2.6. Вывод.\n",
    "\n",
    "Столбец с названиями улиц: `streets` - добавлен."
   ]
  },
  {
   "cell_type": "markdown",
   "metadata": {},
   "source": [
    "<a id = \"step_2_7\"></a>\n",
    "##### 2.7. Построение графика: топ-10 улиц по количеству объектов общественного питания. Вывод информации о районах Москвы, в которых находятся эти улицы.\n",
    "[К содержанию](#table_of_contents)"
   ]
  },
  {
   "cell_type": "code",
   "execution_count": 34,
   "metadata": {},
   "outputs": [
    {
     "data": {
      "text/html": [
       "<div>\n",
       "<style scoped>\n",
       "    .dataframe tbody tr th:only-of-type {\n",
       "        vertical-align: middle;\n",
       "    }\n",
       "\n",
       "    .dataframe tbody tr th {\n",
       "        vertical-align: top;\n",
       "    }\n",
       "\n",
       "    .dataframe thead th {\n",
       "        text-align: right;\n",
       "    }\n",
       "</style>\n",
       "<table border=\"1\" class=\"dataframe\">\n",
       "  <thead>\n",
       "    <tr style=\"text-align: right;\">\n",
       "      <th></th>\n",
       "      <th>index</th>\n",
       "      <th>streets</th>\n",
       "    </tr>\n",
       "  </thead>\n",
       "  <tbody>\n",
       "    <tr>\n",
       "      <th>0</th>\n",
       "      <td>проспект мира</td>\n",
       "      <td>196</td>\n",
       "    </tr>\n",
       "    <tr>\n",
       "      <th>1</th>\n",
       "      <td>профсоюзная улица</td>\n",
       "      <td>181</td>\n",
       "    </tr>\n",
       "    <tr>\n",
       "      <th>2</th>\n",
       "      <td>ленинградский проспект</td>\n",
       "      <td>172</td>\n",
       "    </tr>\n",
       "    <tr>\n",
       "      <th>3</th>\n",
       "      <td>пресненская набережная</td>\n",
       "      <td>165</td>\n",
       "    </tr>\n",
       "    <tr>\n",
       "      <th>4</th>\n",
       "      <td>варшавское шоссе</td>\n",
       "      <td>163</td>\n",
       "    </tr>\n",
       "    <tr>\n",
       "      <th>5</th>\n",
       "      <td>ленинский проспект</td>\n",
       "      <td>148</td>\n",
       "    </tr>\n",
       "    <tr>\n",
       "      <th>6</th>\n",
       "      <td>проспект вернадского</td>\n",
       "      <td>126</td>\n",
       "    </tr>\n",
       "    <tr>\n",
       "      <th>7</th>\n",
       "      <td>кутузовский проспект</td>\n",
       "      <td>114</td>\n",
       "    </tr>\n",
       "    <tr>\n",
       "      <th>8</th>\n",
       "      <td>каширское шоссе</td>\n",
       "      <td>110</td>\n",
       "    </tr>\n",
       "    <tr>\n",
       "      <th>9</th>\n",
       "      <td>кировоградская улица</td>\n",
       "      <td>107</td>\n",
       "    </tr>\n",
       "  </tbody>\n",
       "</table>\n",
       "</div>"
      ],
      "text/plain": [
       "                    index  streets\n",
       "0  проспект мира           196    \n",
       "1  профсоюзная улица       181    \n",
       "2  ленинградский проспект  172    \n",
       "3  пресненская набережная  165    \n",
       "4  варшавское шоссе        163    \n",
       "5  ленинский проспект      148    \n",
       "6  проспект вернадского    126    \n",
       "7  кутузовский проспект    114    \n",
       "8  каширское шоссе         110    \n",
       "9  кировоградская улица    107    "
      ]
     },
     "execution_count": 34,
     "metadata": {},
     "output_type": "execute_result"
    }
   ],
   "source": [
    "top_10_streets = rest_data['streets'].value_counts().head(10).reset_index()\n",
    "top_10_streets"
   ]
  },
  {
   "cell_type": "code",
   "execution_count": 35,
   "metadata": {},
   "outputs": [
    {
     "data": {
      "image/png": "[encoded data removed]",
      "text/plain": [
       "<Figure size 1152x360 with 1 Axes>"
      ]
     },
     "metadata": {
      "needs_background": "light"
     },
     "output_type": "display_data"
    }
   ],
   "source": [
    "plt.figure(figsize = (16, 5))\n",
    "plt.title('Топ-10 улиц по количеству объектов общественного питания')\n",
    "top_10_streets_bar = sns.barplot(x = 'index', y = 'streets', data = top_10_streets)\n",
    "for p in top_10_streets_bar.patches:\n",
    "    top_10_streets_bar.annotate(format(p.get_height(), '.0f'), \n",
    "                   (p.get_x() + p.get_width() / 2., p.get_height()), \n",
    "                   ha = 'center', va = 'center', \n",
    "                   xytext = (0, 9), \n",
    "                   textcoords = 'offset points')\n",
    "plt.ylabel('Кол-во объектов питания')\n",
    "plt.xlabel('Улицы')\n",
    "top_10_streets_bar.set_ylim(0, 215)\n",
    "plt.xticks(rotation = 45) \n",
    "plt.show()"
   ]
  },
  {
   "cell_type": "markdown",
   "metadata": {},
   "source": [
    "Улицы по районам Москвы:\n",
    "    \n",
    "1. Проспект Мира: Мещанский, Марьина Роща, Алексеевский, Останкинский, Свиблово, Ростокино;\n",
    "2. Профсоюзная улица: Академический, Коньково, Обручевский, Тёплый Стан, Черёмушки, Ясенево;\n",
    "3. Ленинградский проспект: Беговой, Аэропорт, Сокол, Хорошёвский;\n",
    "4. Пресненская набережная: Пресненский;\n",
    "5. Варшавское шоссе: Донской, Нагатино-Садовники, Нагорный, Чертаново Северное, Чертаново Центральное, Чертаново Южное, Южное Бутово, Щербинка;\n",
    "6. Ленинский проспект: Якиманка, Донской, Гагаринский, Ломоносовский, Обручевский, Тёплый Стан, Проспект Вернадского, Тропарёво-Никулино;\n",
    "7. Проспект Вернадского: Гагаринский, Ломоносовский, Раменки, Проспект Вернадского, Тропарёво-Никулино;\n",
    "8. Кутузовский проспект: Дорогомилово, Фили-Давыдково;\n",
    "9. Каширское шоссе: Москворечье-Сабурово, Орехово-Борисово Северное, Орехово-Борисово Южное, Нагатино-Садовники;\n",
    "10. Ходынский бульвар: Хорошёвский."
   ]
  },
  {
   "cell_type": "code",
   "execution_count": 36,
   "metadata": {},
   "outputs": [],
   "source": [
    "moscow_buildings['street_brief'] = moscow_buildings['street_name'].str.lower().str.strip()\n",
    "moscow_buildings['area_name'] = moscow_buildings['area_name'].str.replace('муниципальный округ', '').str.strip()"
   ]
  },
  {
   "cell_type": "code",
   "execution_count": 37,
   "metadata": {},
   "outputs": [],
   "source": [
    "area_data = rest_data.copy()[['streets']]\n",
    "area_data['street_brief'] = area_data['streets'].str.replace('улица|переулок|шоссе|площадь|проспект|проезд|бульвар\\\n",
    "                                                    |набережная|микрорайон|аллея|квартал|линия|тупик', '').str.strip()\n",
    "area_data = pd.merge(area_data, moscow_buildings[['street_brief', 'area_name']], on = ['street_brief'], how = 'left')"
   ]
  },
  {
   "cell_type": "code",
   "execution_count": 38,
   "metadata": {},
   "outputs": [
    {
     "data": {
      "text/html": [
       "<div>\n",
       "<style scoped>\n",
       "    .dataframe tbody tr th:only-of-type {\n",
       "        vertical-align: middle;\n",
       "    }\n",
       "\n",
       "    .dataframe tbody tr th {\n",
       "        vertical-align: top;\n",
       "    }\n",
       "\n",
       "    .dataframe thead th {\n",
       "        text-align: right;\n",
       "    }\n",
       "</style>\n",
       "<table border=\"1\" class=\"dataframe\">\n",
       "  <thead>\n",
       "    <tr style=\"text-align: right;\">\n",
       "      <th></th>\n",
       "      <th></th>\n",
       "    </tr>\n",
       "    <tr>\n",
       "      <th>streets</th>\n",
       "      <th>area_name</th>\n",
       "    </tr>\n",
       "  </thead>\n",
       "  <tbody>\n",
       "    <tr>\n",
       "      <th rowspan=\"7\" valign=\"top\">варшавское шоссе</th>\n",
       "      <th>Донской</th>\n",
       "    </tr>\n",
       "    <tr>\n",
       "      <th>Нагатино-Садовники</th>\n",
       "    </tr>\n",
       "    <tr>\n",
       "      <th>Нагорный</th>\n",
       "    </tr>\n",
       "    <tr>\n",
       "      <th>Чертаново Северное</th>\n",
       "    </tr>\n",
       "    <tr>\n",
       "      <th>Чертаново Центральное</th>\n",
       "    </tr>\n",
       "    <tr>\n",
       "      <th>Чертаново Южное</th>\n",
       "    </tr>\n",
       "    <tr>\n",
       "      <th>Южное Бутово</th>\n",
       "    </tr>\n",
       "    <tr>\n",
       "      <th rowspan=\"4\" valign=\"top\">каширское шоссе</th>\n",
       "      <th>Москворечье-Сабурово</th>\n",
       "    </tr>\n",
       "    <tr>\n",
       "      <th>Нагатино-Садовники</th>\n",
       "    </tr>\n",
       "    <tr>\n",
       "      <th>Орехово-Борисово Северное</th>\n",
       "    </tr>\n",
       "    <tr>\n",
       "      <th>Орехово-Борисово Южное</th>\n",
       "    </tr>\n",
       "    <tr>\n",
       "      <th rowspan=\"3\" valign=\"top\">кировоградская улица</th>\n",
       "      <th>Чертаново Северное</th>\n",
       "    </tr>\n",
       "    <tr>\n",
       "      <th>Чертаново Центральное</th>\n",
       "    </tr>\n",
       "    <tr>\n",
       "      <th>Чертаново Южное</th>\n",
       "    </tr>\n",
       "    <tr>\n",
       "      <th rowspan=\"2\" valign=\"top\">кутузовский проспект</th>\n",
       "      <th>Дорогомилово</th>\n",
       "    </tr>\n",
       "    <tr>\n",
       "      <th>Фили-Давыдково</th>\n",
       "    </tr>\n",
       "    <tr>\n",
       "      <th rowspan=\"5\" valign=\"top\">ленинградский проспект</th>\n",
       "      <th>Аэропорт</th>\n",
       "    </tr>\n",
       "    <tr>\n",
       "      <th>Беговой</th>\n",
       "    </tr>\n",
       "    <tr>\n",
       "      <th>Сокол</th>\n",
       "    </tr>\n",
       "    <tr>\n",
       "      <th>Хорошевский</th>\n",
       "    </tr>\n",
       "    <tr>\n",
       "      <th>Чертаново Северное</th>\n",
       "    </tr>\n",
       "    <tr>\n",
       "      <th rowspan=\"8\" valign=\"top\">ленинский проспект</th>\n",
       "      <th>Гагаринский</th>\n",
       "    </tr>\n",
       "    <tr>\n",
       "      <th>Донской</th>\n",
       "    </tr>\n",
       "    <tr>\n",
       "      <th>Ломоносовский</th>\n",
       "    </tr>\n",
       "    <tr>\n",
       "      <th>Обручевский</th>\n",
       "    </tr>\n",
       "    <tr>\n",
       "      <th>Проспект Вернадского</th>\n",
       "    </tr>\n",
       "    <tr>\n",
       "      <th>Теплый Стан</th>\n",
       "    </tr>\n",
       "    <tr>\n",
       "      <th>Тропарево-Никулино</th>\n",
       "    </tr>\n",
       "    <tr>\n",
       "      <th>Якиманка</th>\n",
       "    </tr>\n",
       "    <tr>\n",
       "      <th rowspan=\"4\" valign=\"top\">проспект вернадского</th>\n",
       "      <th>Гагаринский</th>\n",
       "    </tr>\n",
       "    <tr>\n",
       "      <th>Ломоносовский</th>\n",
       "    </tr>\n",
       "    <tr>\n",
       "      <th>Проспект Вернадского</th>\n",
       "    </tr>\n",
       "    <tr>\n",
       "      <th>Тропарево-Никулино</th>\n",
       "    </tr>\n",
       "    <tr>\n",
       "      <th rowspan=\"4\" valign=\"top\">проспект мира</th>\n",
       "      <th>Алексеевский</th>\n",
       "    </tr>\n",
       "    <tr>\n",
       "      <th>Мещанский</th>\n",
       "    </tr>\n",
       "    <tr>\n",
       "      <th>Останкинский</th>\n",
       "    </tr>\n",
       "    <tr>\n",
       "      <th>Ростокино</th>\n",
       "    </tr>\n",
       "    <tr>\n",
       "      <th rowspan=\"6\" valign=\"top\">профсоюзная улица</th>\n",
       "      <th>Академический</th>\n",
       "    </tr>\n",
       "    <tr>\n",
       "      <th>Коньково</th>\n",
       "    </tr>\n",
       "    <tr>\n",
       "      <th>Обручевский</th>\n",
       "    </tr>\n",
       "    <tr>\n",
       "      <th>Теплый Стан</th>\n",
       "    </tr>\n",
       "    <tr>\n",
       "      <th>Черемушки</th>\n",
       "    </tr>\n",
       "    <tr>\n",
       "      <th>Ясенево</th>\n",
       "    </tr>\n",
       "  </tbody>\n",
       "</table>\n",
       "</div>"
      ],
      "text/plain": [
       "Empty DataFrame\n",
       "Columns: []\n",
       "Index: [(варшавское шоссе, Донской), (варшавское шоссе, Нагатино-Садовники), (варшавское шоссе, Нагорный), (варшавское шоссе, Чертаново Северное), (варшавское шоссе, Чертаново Центральное), (варшавское шоссе, Чертаново Южное), (варшавское шоссе, Южное Бутово), (каширское шоссе, Москворечье-Сабурово), (каширское шоссе, Нагатино-Садовники), (каширское шоссе, Орехово-Борисово Северное), (каширское шоссе, Орехово-Борисово Южное), (кировоградская улица, Чертаново Северное), (кировоградская улица, Чертаново Центральное), (кировоградская улица, Чертаново Южное), (кутузовский проспект, Дорогомилово), (кутузовский проспект, Фили-Давыдково), (ленинградский проспект, Аэропорт), (ленинградский проспект, Беговой), (ленинградский проспект, Сокол), (ленинградский проспект, Хорошевский), (ленинградский проспект, Чертаново Северное), (ленинский проспект, Гагаринский), (ленинский проспект, Донской), (ленинский проспект, Ломоносовский), (ленинский проспект, Обручевский), (ленинский проспект, Проспект Вернадского), (ленинский проспект, Теплый Стан), (ленинский проспект, Тропарево-Никулино), (ленинский проспект, Якиманка), (проспект вернадского, Гагаринский), (проспект вернадского, Ломоносовский), (проспект вернадского, Проспект Вернадского), (проспект вернадского, Тропарево-Никулино), (проспект мира, Алексеевский), (проспект мира, Мещанский), (проспект мира, Останкинский), (проспект мира, Ростокино), (профсоюзная улица, Академический), (профсоюзная улица, Коньково), (профсоюзная улица, Обручевский), (профсоюзная улица, Теплый Стан), (профсоюзная улица, Черемушки), (профсоюзная улица, Ясенево)]"
      ]
     },
     "execution_count": 38,
     "metadata": {},
     "output_type": "execute_result"
    }
   ],
   "source": [
    "top_10_streets_list = top_10_streets['index'].to_list()\n",
    "top_10_streets_area = area_data.query('streets == @top_10_streets_list')\n",
    "top_10_streets_area.groupby(['streets', 'area_name']).agg({'area_name' : 'unique'}).drop(['area_name'], axis=1)"
   ]
  },
  {
   "cell_type": "markdown",
   "metadata": {},
   "source": [
    "##### 2.7. Вывод.\n",
    "\n",
    "Проспект Мира является наиболее популярным среди объектов общественного питания. Возможно, это связано с протяженностью + улица пересекает много районов, как и большинство других улиц из Топ."
   ]
  },
  {
   "cell_type": "markdown",
   "metadata": {},
   "source": [
    "<a id = \"step_2_8\"></a>\n",
    "##### 2.8. Поиск улиц с одним объектом общественного питания. Вывод информации о районах Москвы, в которых находятся эти улицы.\n",
    "[К содержанию](#table_of_contents)"
   ]
  },
  {
   "cell_type": "code",
   "execution_count": 39,
   "metadata": {},
   "outputs": [],
   "source": [
    "behind_streets = rest_data['streets'].value_counts().reset_index()"
   ]
  },
  {
   "cell_type": "code",
   "execution_count": 40,
   "metadata": {},
   "outputs": [],
   "source": [
    "behind_streets = behind_streets.query('streets == 1')"
   ]
  },
  {
   "cell_type": "code",
   "execution_count": 41,
   "metadata": {},
   "outputs": [],
   "source": [
    "behind_streets_list = behind_streets['index'].to_list()\n",
    "behind_streets_area = area_data.query('streets == @behind_streets_list')\n",
    "#behind_streets_area[['streets', 'area_name']]\n",
    "behind_streets_area = behind_streets_area.drop_duplicates(subset=['streets', 'area_name'])"
   ]
  },
  {
   "cell_type": "code",
   "execution_count": 42,
   "metadata": {
    "scrolled": false
   },
   "outputs": [
    {
     "data": {
      "text/plain": [
       "streets      553\n",
       "area_name    297\n",
       "dtype: int64"
      ]
     },
     "execution_count": 42,
     "metadata": {},
     "output_type": "execute_result"
    }
   ],
   "source": [
    "behind_streets_area[['streets', 'area_name']].count()"
   ]
  },
  {
   "cell_type": "code",
   "execution_count": 43,
   "metadata": {},
   "outputs": [
    {
     "data": {
      "text/html": [
       "<div>\n",
       "<style scoped>\n",
       "    .dataframe tbody tr th:only-of-type {\n",
       "        vertical-align: middle;\n",
       "    }\n",
       "\n",
       "    .dataframe tbody tr th {\n",
       "        vertical-align: top;\n",
       "    }\n",
       "\n",
       "    .dataframe thead th {\n",
       "        text-align: right;\n",
       "    }\n",
       "</style>\n",
       "<table border=\"1\" class=\"dataframe\">\n",
       "  <thead>\n",
       "    <tr style=\"text-align: right;\">\n",
       "      <th></th>\n",
       "      <th>streets</th>\n",
       "      <th>area_name</th>\n",
       "    </tr>\n",
       "  </thead>\n",
       "  <tbody>\n",
       "    <tr>\n",
       "      <th>422</th>\n",
       "      <td>филипповский переулок</td>\n",
       "      <td>Арбат</td>\n",
       "    </tr>\n",
       "    <tr>\n",
       "      <th>1684</th>\n",
       "      <td>бабаевская улица</td>\n",
       "      <td>Сокольники</td>\n",
       "    </tr>\n",
       "    <tr>\n",
       "      <th>2001</th>\n",
       "      <td>1-й балтийский переулок</td>\n",
       "      <td>NaN</td>\n",
       "    </tr>\n",
       "    <tr>\n",
       "      <th>2186</th>\n",
       "      <td>улица демьяна бедного</td>\n",
       "      <td>Хорошево-Мневники</td>\n",
       "    </tr>\n",
       "    <tr>\n",
       "      <th>3179</th>\n",
       "      <td>будайская улица</td>\n",
       "      <td>Ростокино</td>\n",
       "    </tr>\n",
       "    <tr>\n",
       "      <th>3697</th>\n",
       "      <td>варсонофьевский переулок</td>\n",
       "      <td>Мещанский</td>\n",
       "    </tr>\n",
       "    <tr>\n",
       "      <th>5816</th>\n",
       "      <td>верхняя улица</td>\n",
       "      <td>Беговой</td>\n",
       "    </tr>\n",
       "    <tr>\n",
       "      <th>5823</th>\n",
       "      <td>глазовский переулок</td>\n",
       "      <td>Арбат</td>\n",
       "    </tr>\n",
       "    <tr>\n",
       "      <th>5824</th>\n",
       "      <td>глазовский переулок</td>\n",
       "      <td>Хамовники</td>\n",
       "    </tr>\n",
       "    <tr>\n",
       "      <th>8312</th>\n",
       "      <td>воротниковский переулок</td>\n",
       "      <td>Тверской</td>\n",
       "    </tr>\n",
       "  </tbody>\n",
       "</table>\n",
       "</div>"
      ],
      "text/plain": [
       "                       streets          area_name\n",
       "422   филипповский переулок     Арбат            \n",
       "1684  бабаевская улица          Сокольники       \n",
       "2001  1-й балтийский переулок   NaN              \n",
       "2186  улица демьяна бедного     Хорошево-Мневники\n",
       "3179  будайская улица           Ростокино        \n",
       "3697  варсонофьевский переулок  Мещанский        \n",
       "5816  верхняя улица             Беговой          \n",
       "5823  глазовский переулок       Арбат            \n",
       "5824  глазовский переулок       Хамовники        \n",
       "8312  воротниковский переулок   Тверской         "
      ]
     },
     "execution_count": 43,
     "metadata": {},
     "output_type": "execute_result"
    }
   ],
   "source": [
    "behind_streets_area[['streets', 'area_name']].head(10)"
   ]
  },
  {
   "cell_type": "markdown",
   "metadata": {},
   "source": [
    "##### 2.8. Вывод.\n",
    "\n",
    "Всего 553 улиц, на которых расположено по одному объекту общественного питания."
   ]
  },
  {
   "cell_type": "markdown",
   "metadata": {},
   "source": [
    "<a id = \"step_2_9\"></a>\n",
    "##### 2.9. Распределение количества посадочных мест в объектах общественного питания по улицам из Топ-10. Выявление закономерностей.\n",
    "[К содержанию](#table_of_contents)"
   ]
  },
  {
   "cell_type": "code",
   "execution_count": 44,
   "metadata": {},
   "outputs": [],
   "source": [
    "streets_name = top_10_streets['index'].to_list()"
   ]
  },
  {
   "cell_type": "code",
   "execution_count": 45,
   "metadata": {},
   "outputs": [],
   "source": [
    "top_10_streets_chain = rest_data.query('streets == @streets_name')"
   ]
  },
  {
   "cell_type": "code",
   "execution_count": 46,
   "metadata": {},
   "outputs": [
    {
     "name": "stdout",
     "output_type": "stream",
     "text": [
      "<class 'pandas.core.frame.DataFrame'>\n",
      "Int64Index: 1482 entries, 151 to 15358\n",
      "Data columns (total 7 columns):\n",
      " #   Column       Non-Null Count  Dtype \n",
      "---  ------       --------------  ----- \n",
      " 0   id           1482 non-null   object\n",
      " 1   object_name  1482 non-null   object\n",
      " 2   chain        1482 non-null   object\n",
      " 3   object_type  1482 non-null   object\n",
      " 4   address      1482 non-null   object\n",
      " 5   number       1482 non-null   int64 \n",
      " 6   streets      1482 non-null   object\n",
      "dtypes: int64(1), object(6)\n",
      "memory usage: 92.6+ KB\n"
     ]
    }
   ],
   "source": [
    "top_10_streets_chain.info()"
   ]
  },
  {
   "cell_type": "code",
   "execution_count": 47,
   "metadata": {},
   "outputs": [
    {
     "data": {
      "text/plain": [
       "count    1482.00\n",
       "mean     58.39  \n",
       "std      90.51  \n",
       "min      0.00   \n",
       "25%      12.00  \n",
       "50%      40.00  \n",
       "75%      75.00  \n",
       "max      1700.00\n",
       "Name: number, dtype: float64"
      ]
     },
     "execution_count": 47,
     "metadata": {},
     "output_type": "execute_result"
    }
   ],
   "source": [
    "top_10_streets_chain['number'].describe().round(2)"
   ]
  },
  {
   "cell_type": "code",
   "execution_count": 48,
   "metadata": {
    "scrolled": false
   },
   "outputs": [
    {
     "data": {
      "image/png": "[encoded data removed]",
      "text/plain": [
       "<Figure size 1152x504 with 1 Axes>"
      ]
     },
     "metadata": {
      "needs_background": "light"
     },
     "output_type": "display_data"
    }
   ],
   "source": [
    "plt.figure(figsize = (16, 7))\n",
    "plt.title('Распределение количества посадочных мест для улиц с большим количеством объектов общественного питания')\n",
    "top_10_streets_chain_boxplot = sns.boxplot(x = 'streets', y= 'number', data = top_10_streets_chain)\n",
    "top_10_streets_chain_boxplot.set_ylim(-10,400)\n",
    "plt.ylabel('Посадочные места')\n",
    "plt.xlabel('Улицы')\n",
    "plt.xticks(rotation = 45) \n",
    "plt.show()"
   ]
  },
  {
   "cell_type": "markdown",
   "metadata": {},
   "source": [
    "##### 2.9. Вывод.\n",
    "\n",
    "Несмотря на то, что объекты общественного питания более всего сконцентрированны на данных улицах (топ-10), посадочных мест в заведениях в среднем не много."
   ]
  },
  {
   "cell_type": "markdown",
   "metadata": {},
   "source": [
    "<a id=\"step_3\"></a>\n",
    "### Часть 3. Презентация.\n",
    "[К содержанию](#table_of_contents)"
   ]
  },
  {
   "cell_type": "markdown",
   "metadata": {},
   "source": [
    "Презентация: https://drive.google.com/file/d/1LNCW4ycnywA1iTIPpkVM6NfKGGQaOuZQ/view?usp=sharing"
   ]
  },
  {
   "cell_type": "markdown",
   "metadata": {},
   "source": [
    "<a id = \"step_total\"></a>\n",
    "### Итог.\n",
    "[К содержанию](#table_of_contents)\n",
    "\n"
   ]
  },
  {
   "cell_type": "markdown",
   "metadata": {},
   "source": [
    "Наиболее приоритетным для открытия объектом общественного питания является - кафе, так же популярны: столовая и ресторан. Наиболее перспективные улицы для открытия объектов общественного питания: Проспект Мира, Профсоюзная улица, Ленинградский проспект, Пресненская набережная, Варшавское шоссе, Ленинский проспект, Проспект Вернадского, Кутузовский проспект, Каширское шоссе, Ходынский бульвар. Для указанных улиц, типичное количество посадочных мест для объекта общественного питания составляет 35. В то время как для кафе, столовой и ресторана характерно 39, 130 и 96 посадочных мест соответственно. Доля сетевых объектов в своем типе: фаст-фуд - 41%, кулинарный отдел - 28%, ресторан - 24%, кафе - 23%. Столовая является самым несетевым объектом общественного питания.\n",
    "\n",
    "В соответствии с полученными результатами исследования рынка  объектов общественного питания в Москве, проекту «Робо-кафе» подготовлены следующие рекомендации:\n",
    "\n",
    "- формат заведения: несетевое кафе (в дальнейшем, можно подумать о расширении);\n",
    "- количество мест: 35 - 39;\n",
    "- расположение: желательно - Проспект Мира, но так же можно рассмотреть: Профсоюзная улица, Ленинградский проспект."
   ]
  },
  {
   "cell_type": "code",
   "execution_count": 49,
   "metadata": {},
   "outputs": [],
   "source": [
    "top_10_streets.columns = ['street_name', 'object_count']\n",
    "top_10_streets['street_length'] = [8900, 9300, 5600, 550, 22500, 16000, 8000, 8300, 10500, 4300]"
   ]
  },
  {
   "cell_type": "code",
   "execution_count": 50,
   "metadata": {},
   "outputs": [],
   "source": [
    "top_10_streets['metr_obj'] = (top_10_streets['street_length'] / top_10_streets['object_count']).astype('int')"
   ]
  },
  {
   "cell_type": "code",
   "execution_count": 51,
   "metadata": {
    "scrolled": true
   },
   "outputs": [
    {
     "data": {
      "text/html": [
       "<div>\n",
       "<style scoped>\n",
       "    .dataframe tbody tr th:only-of-type {\n",
       "        vertical-align: middle;\n",
       "    }\n",
       "\n",
       "    .dataframe tbody tr th {\n",
       "        vertical-align: top;\n",
       "    }\n",
       "\n",
       "    .dataframe thead th {\n",
       "        text-align: right;\n",
       "    }\n",
       "</style>\n",
       "<table border=\"1\" class=\"dataframe\">\n",
       "  <thead>\n",
       "    <tr style=\"text-align: right;\">\n",
       "      <th></th>\n",
       "      <th>street_name</th>\n",
       "      <th>object_count</th>\n",
       "      <th>street_length</th>\n",
       "      <th>metr_obj</th>\n",
       "    </tr>\n",
       "  </thead>\n",
       "  <tbody>\n",
       "    <tr>\n",
       "      <th>3</th>\n",
       "      <td>пресненская набережная</td>\n",
       "      <td>165</td>\n",
       "      <td>550</td>\n",
       "      <td>3</td>\n",
       "    </tr>\n",
       "    <tr>\n",
       "      <th>2</th>\n",
       "      <td>ленинградский проспект</td>\n",
       "      <td>172</td>\n",
       "      <td>5600</td>\n",
       "      <td>32</td>\n",
       "    </tr>\n",
       "    <tr>\n",
       "      <th>9</th>\n",
       "      <td>кировоградская улица</td>\n",
       "      <td>107</td>\n",
       "      <td>4300</td>\n",
       "      <td>40</td>\n",
       "    </tr>\n",
       "    <tr>\n",
       "      <th>0</th>\n",
       "      <td>проспект мира</td>\n",
       "      <td>196</td>\n",
       "      <td>8900</td>\n",
       "      <td>45</td>\n",
       "    </tr>\n",
       "    <tr>\n",
       "      <th>1</th>\n",
       "      <td>профсоюзная улица</td>\n",
       "      <td>181</td>\n",
       "      <td>9300</td>\n",
       "      <td>51</td>\n",
       "    </tr>\n",
       "    <tr>\n",
       "      <th>6</th>\n",
       "      <td>проспект вернадского</td>\n",
       "      <td>126</td>\n",
       "      <td>8000</td>\n",
       "      <td>63</td>\n",
       "    </tr>\n",
       "    <tr>\n",
       "      <th>7</th>\n",
       "      <td>кутузовский проспект</td>\n",
       "      <td>114</td>\n",
       "      <td>8300</td>\n",
       "      <td>72</td>\n",
       "    </tr>\n",
       "    <tr>\n",
       "      <th>8</th>\n",
       "      <td>каширское шоссе</td>\n",
       "      <td>110</td>\n",
       "      <td>10500</td>\n",
       "      <td>95</td>\n",
       "    </tr>\n",
       "    <tr>\n",
       "      <th>5</th>\n",
       "      <td>ленинский проспект</td>\n",
       "      <td>148</td>\n",
       "      <td>16000</td>\n",
       "      <td>108</td>\n",
       "    </tr>\n",
       "    <tr>\n",
       "      <th>4</th>\n",
       "      <td>варшавское шоссе</td>\n",
       "      <td>163</td>\n",
       "      <td>22500</td>\n",
       "      <td>138</td>\n",
       "    </tr>\n",
       "  </tbody>\n",
       "</table>\n",
       "</div>"
      ],
      "text/plain": [
       "              street_name  object_count  street_length  metr_obj\n",
       "3  пресненская набережная  165           550            3       \n",
       "2  ленинградский проспект  172           5600           32      \n",
       "9  кировоградская улица    107           4300           40      \n",
       "0  проспект мира           196           8900           45      \n",
       "1  профсоюзная улица       181           9300           51      \n",
       "6  проспект вернадского    126           8000           63      \n",
       "7  кутузовский проспект    114           8300           72      \n",
       "8  каширское шоссе         110           10500          95      \n",
       "5  ленинский проспект      148           16000          108     \n",
       "4  варшавское шоссе        163           22500          138     "
      ]
     },
     "execution_count": 51,
     "metadata": {},
     "output_type": "execute_result"
    }
   ],
   "source": [
    "top_10_streets.sort_values(by = 'metr_obj')"
   ]
  },
  {
   "cell_type": "markdown",
   "metadata": {},
   "source": [
    "[Назад](#table_of_contents_2)"
   ]
  }
 ],
 "metadata": {
  "kernelspec": {
   "display_name": "Python 3",
   "language": "python",
   "name": "python3"
  },
  "language_info": {
   "codemirror_mode": {
    "name": "ipython",
    "version": 3
   },
   "file_extension": ".py",
   "mimetype": "text/x-python",
   "name": "python",
   "nbconvert_exporter": "python",
   "pygments_lexer": "ipython3",
   "version": "3.8.5"
  }
 },
 "nbformat": 4,
 "nbformat_minor": 4
}
